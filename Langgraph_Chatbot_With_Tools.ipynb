{
  "cells": [
    {
      "cell_type": "code",
      "execution_count": 1,
      "metadata": {
        "colab": {
          "base_uri": "https://localhost:8080/"
        },
        "id": "7FbteuSO3tV5",
        "outputId": "9d0fad36-250c-4158-cf2c-8fb1e09a53e9"
      },
      "outputs": [
        {
          "name": "stdout",
          "output_type": "stream",
          "text": [
            "Defaulting to user installation because normal site-packages is not writeable\n",
            "Requirement already satisfied: langgraph in /home/fahad/.local/lib/python3.10/site-packages (0.3.2)\n",
            "Requirement already satisfied: langsmith in /home/fahad/.local/lib/python3.10/site-packages (0.3.11)\n",
            "Requirement already satisfied: langchain in /home/fahad/.local/lib/python3.10/site-packages (0.3.20)\n",
            "Requirement already satisfied: langchain_groq in /home/fahad/.local/lib/python3.10/site-packages (0.2.4)\n",
            "Requirement already satisfied: langchain_community in /home/fahad/.local/lib/python3.10/site-packages (0.3.19)\n",
            "Requirement already satisfied: langchain-core<0.4,>=0.1 in /home/fahad/.local/lib/python3.10/site-packages (from langgraph) (0.3.41)\n",
            "Requirement already satisfied: langgraph-checkpoint<3.0.0,>=2.0.10 in /home/fahad/.local/lib/python3.10/site-packages (from langgraph) (2.0.16)\n",
            "Requirement already satisfied: langgraph-prebuilt<0.2,>=0.1.1 in /home/fahad/.local/lib/python3.10/site-packages (from langgraph) (0.1.1)\n",
            "Requirement already satisfied: langgraph-sdk<0.2.0,>=0.1.42 in /home/fahad/.local/lib/python3.10/site-packages (from langgraph) (0.1.53)\n",
            "Requirement already satisfied: httpx<1,>=0.23.0 in /home/fahad/.local/lib/python3.10/site-packages (from langsmith) (0.27.0)\n",
            "Requirement already satisfied: orjson<4.0.0,>=3.9.14 in /home/fahad/.local/lib/python3.10/site-packages (from langsmith) (3.10.15)\n",
            "Requirement already satisfied: packaging>=23.2 in /home/fahad/.local/lib/python3.10/site-packages (from langsmith) (24.0)\n",
            "Requirement already satisfied: pydantic<3,>=1 in /home/fahad/.local/lib/python3.10/site-packages (from langsmith) (2.10.6)\n",
            "Requirement already satisfied: requests<3,>=2 in /home/fahad/.local/lib/python3.10/site-packages (from langsmith) (2.32.3)\n",
            "Requirement already satisfied: requests-toolbelt<2.0.0,>=1.0.0 in /home/fahad/.local/lib/python3.10/site-packages (from langsmith) (1.0.0)\n",
            "Requirement already satisfied: zstandard<0.24.0,>=0.23.0 in /home/fahad/.local/lib/python3.10/site-packages (from langsmith) (0.23.0)\n",
            "Requirement already satisfied: langchain-text-splitters<1.0.0,>=0.3.6 in /home/fahad/.local/lib/python3.10/site-packages (from langchain) (0.3.6)\n",
            "Requirement already satisfied: SQLAlchemy<3,>=1.4 in /home/fahad/.local/lib/python3.10/site-packages (from langchain) (2.0.38)\n",
            "Requirement already satisfied: PyYAML>=5.3 in /usr/lib/python3/dist-packages (from langchain) (5.4.1)\n",
            "Requirement already satisfied: async-timeout<5.0.0,>=4.0.0 in /home/fahad/.local/lib/python3.10/site-packages (from langchain) (4.0.3)\n",
            "Requirement already satisfied: groq<1,>=0.4.1 in /home/fahad/.local/lib/python3.10/site-packages (from langchain_groq) (0.18.0)\n",
            "Requirement already satisfied: aiohttp<4.0.0,>=3.8.3 in /home/fahad/.local/lib/python3.10/site-packages (from langchain_community) (3.11.13)\n",
            "Requirement already satisfied: tenacity!=8.4.0,<10,>=8.1.0 in /home/fahad/.local/lib/python3.10/site-packages (from langchain_community) (9.0.0)\n",
            "Requirement already satisfied: dataclasses-json<0.7,>=0.5.7 in /home/fahad/.local/lib/python3.10/site-packages (from langchain_community) (0.6.7)\n",
            "Requirement already satisfied: pydantic-settings<3.0.0,>=2.4.0 in /home/fahad/.local/lib/python3.10/site-packages (from langchain_community) (2.8.1)\n",
            "Requirement already satisfied: httpx-sse<1.0.0,>=0.4.0 in /home/fahad/.local/lib/python3.10/site-packages (from langchain_community) (0.4.0)\n",
            "Requirement already satisfied: numpy<3,>=1.26.2 in /home/fahad/.local/lib/python3.10/site-packages (from langchain_community) (1.26.4)\n",
            "Requirement already satisfied: aiohappyeyeballs>=2.3.0 in /home/fahad/.local/lib/python3.10/site-packages (from aiohttp<4.0.0,>=3.8.3->langchain_community) (2.4.6)\n",
            "Requirement already satisfied: aiosignal>=1.1.2 in /home/fahad/.local/lib/python3.10/site-packages (from aiohttp<4.0.0,>=3.8.3->langchain_community) (1.3.2)\n",
            "Requirement already satisfied: attrs>=17.3.0 in /home/fahad/.local/lib/python3.10/site-packages (from aiohttp<4.0.0,>=3.8.3->langchain_community) (23.2.0)\n",
            "Requirement already satisfied: frozenlist>=1.1.1 in /home/fahad/.local/lib/python3.10/site-packages (from aiohttp<4.0.0,>=3.8.3->langchain_community) (1.5.0)\n",
            "Requirement already satisfied: multidict<7.0,>=4.5 in /home/fahad/.local/lib/python3.10/site-packages (from aiohttp<4.0.0,>=3.8.3->langchain_community) (6.1.0)\n",
            "Requirement already satisfied: propcache>=0.2.0 in /home/fahad/.local/lib/python3.10/site-packages (from aiohttp<4.0.0,>=3.8.3->langchain_community) (0.3.0)\n",
            "Requirement already satisfied: yarl<2.0,>=1.17.0 in /home/fahad/.local/lib/python3.10/site-packages (from aiohttp<4.0.0,>=3.8.3->langchain_community) (1.18.3)\n",
            "Requirement already satisfied: marshmallow<4.0.0,>=3.18.0 in /home/fahad/.local/lib/python3.10/site-packages (from dataclasses-json<0.7,>=0.5.7->langchain_community) (3.26.1)\n",
            "Requirement already satisfied: typing-inspect<1,>=0.4.0 in /home/fahad/.local/lib/python3.10/site-packages (from dataclasses-json<0.7,>=0.5.7->langchain_community) (0.9.0)\n",
            "Requirement already satisfied: anyio<5,>=3.5.0 in /home/fahad/.local/lib/python3.10/site-packages (from groq<1,>=0.4.1->langchain_groq) (4.4.0)\n",
            "Requirement already satisfied: distro<2,>=1.7.0 in /usr/lib/python3/dist-packages (from groq<1,>=0.4.1->langchain_groq) (1.7.0)\n",
            "Requirement already satisfied: sniffio in /home/fahad/.local/lib/python3.10/site-packages (from groq<1,>=0.4.1->langchain_groq) (1.3.1)\n",
            "Requirement already satisfied: typing-extensions<5,>=4.10 in /home/fahad/.local/lib/python3.10/site-packages (from groq<1,>=0.4.1->langchain_groq) (4.12.2)\n",
            "Requirement already satisfied: certifi in /home/fahad/.local/lib/python3.10/site-packages (from httpx<1,>=0.23.0->langsmith) (2023.7.22)\n",
            "Requirement already satisfied: httpcore==1.* in /home/fahad/.local/lib/python3.10/site-packages (from httpx<1,>=0.23.0->langsmith) (1.0.5)\n",
            "Requirement already satisfied: idna in /home/fahad/.local/lib/python3.10/site-packages (from httpx<1,>=0.23.0->langsmith) (2.10)\n",
            "Requirement already satisfied: h11<0.15,>=0.13 in /home/fahad/.local/lib/python3.10/site-packages (from httpcore==1.*->httpx<1,>=0.23.0->langsmith) (0.14.0)\n",
            "Requirement already satisfied: jsonpatch<2.0,>=1.33 in /home/fahad/.local/lib/python3.10/site-packages (from langchain-core<0.4,>=0.1->langgraph) (1.33)\n",
            "Requirement already satisfied: msgpack<2.0.0,>=1.1.0 in /home/fahad/.local/lib/python3.10/site-packages (from langgraph-checkpoint<3.0.0,>=2.0.10->langgraph) (1.1.0)\n",
            "Requirement already satisfied: annotated-types>=0.6.0 in /home/fahad/.local/lib/python3.10/site-packages (from pydantic<3,>=1->langsmith) (0.7.0)\n",
            "Requirement already satisfied: pydantic-core==2.27.2 in /home/fahad/.local/lib/python3.10/site-packages (from pydantic<3,>=1->langsmith) (2.27.2)\n",
            "Requirement already satisfied: python-dotenv>=0.21.0 in /home/fahad/.local/lib/python3.10/site-packages (from pydantic-settings<3.0.0,>=2.4.0->langchain_community) (1.0.1)\n",
            "Requirement already satisfied: charset-normalizer<4,>=2 in /home/fahad/.local/lib/python3.10/site-packages (from requests<3,>=2->langsmith) (3.3.2)\n",
            "Requirement already satisfied: urllib3<3,>=1.21.1 in /home/fahad/.local/lib/python3.10/site-packages (from requests<3,>=2->langsmith) (2.2.1)\n",
            "Requirement already satisfied: greenlet!=0.4.17 in /home/fahad/.local/lib/python3.10/site-packages (from SQLAlchemy<3,>=1.4->langchain) (3.1.1)\n",
            "Requirement already satisfied: exceptiongroup>=1.0.2 in /home/fahad/.local/lib/python3.10/site-packages (from anyio<5,>=3.5.0->groq<1,>=0.4.1->langchain_groq) (1.2.1)\n",
            "Requirement already satisfied: jsonpointer>=1.9 in /home/fahad/.local/lib/python3.10/site-packages (from jsonpatch<2.0,>=1.33->langchain-core<0.4,>=0.1->langgraph) (3.0.0)\n",
            "Requirement already satisfied: mypy-extensions>=0.3.0 in /home/fahad/.local/lib/python3.10/site-packages (from typing-inspect<1,>=0.4.0->dataclasses-json<0.7,>=0.5.7->langchain_community) (1.0.0)\n",
            "\n",
            "\u001b[1m[\u001b[0m\u001b[34;49mnotice\u001b[0m\u001b[1;39;49m]\u001b[0m\u001b[39;49m A new release of pip is available: \u001b[0m\u001b[31;49m24.3.1\u001b[0m\u001b[39;49m -> \u001b[0m\u001b[32;49m25.0.1\u001b[0m\n",
            "\u001b[1m[\u001b[0m\u001b[34;49mnotice\u001b[0m\u001b[1;39;49m]\u001b[0m\u001b[39;49m To update, run: \u001b[0m\u001b[32;49mpip install --upgrade pip\u001b[0m\n"
          ]
        }
      ],
      "source": [
        "!pip install langgraph langsmith langchain langchain_groq langchain_community"
      ]
    },
    {
      "cell_type": "code",
      "execution_count": 2,
      "metadata": {
        "id": "7nby_Ijb4iDe"
      },
      "outputs": [],
      "source": [
        "from typing import Annotated\n",
        "from typing_extensions import TypedDict"
      ]
    },
    {
      "cell_type": "code",
      "execution_count": 3,
      "metadata": {
        "colab": {
          "base_uri": "https://localhost:8080/"
        },
        "id": "em3GQzI_6K8H",
        "outputId": "ee1ee594-1699-4ca3-dcbd-5632cb873741"
      },
      "outputs": [
        {
          "name": "stdout",
          "output_type": "stream",
          "text": [
            "Defaulting to user installation because normal site-packages is not writeable\n",
            "Requirement already satisfied: arxiv in /home/fahad/.local/lib/python3.10/site-packages (2.1.3)\n",
            "Requirement already satisfied: wikipedia in /home/fahad/.local/lib/python3.10/site-packages (1.4.0)\n",
            "Requirement already satisfied: feedparser~=6.0.10 in /home/fahad/.local/lib/python3.10/site-packages (from arxiv) (6.0.11)\n",
            "Requirement already satisfied: requests~=2.32.0 in /home/fahad/.local/lib/python3.10/site-packages (from arxiv) (2.32.3)\n",
            "Requirement already satisfied: beautifulsoup4 in /usr/lib/python3/dist-packages (from wikipedia) (4.10.0)\n",
            "Requirement already satisfied: sgmllib3k in /home/fahad/.local/lib/python3.10/site-packages (from feedparser~=6.0.10->arxiv) (1.0.0)\n",
            "Requirement already satisfied: charset-normalizer<4,>=2 in /home/fahad/.local/lib/python3.10/site-packages (from requests~=2.32.0->arxiv) (3.3.2)\n",
            "Requirement already satisfied: idna<4,>=2.5 in /home/fahad/.local/lib/python3.10/site-packages (from requests~=2.32.0->arxiv) (2.10)\n",
            "Requirement already satisfied: urllib3<3,>=1.21.1 in /home/fahad/.local/lib/python3.10/site-packages (from requests~=2.32.0->arxiv) (2.2.1)\n",
            "Requirement already satisfied: certifi>=2017.4.17 in /home/fahad/.local/lib/python3.10/site-packages (from requests~=2.32.0->arxiv) (2023.7.22)\n",
            "\n",
            "\u001b[1m[\u001b[0m\u001b[34;49mnotice\u001b[0m\u001b[1;39;49m]\u001b[0m\u001b[39;49m A new release of pip is available: \u001b[0m\u001b[31;49m24.3.1\u001b[0m\u001b[39;49m -> \u001b[0m\u001b[32;49m25.0.1\u001b[0m\n",
            "\u001b[1m[\u001b[0m\u001b[34;49mnotice\u001b[0m\u001b[1;39;49m]\u001b[0m\u001b[39;49m To update, run: \u001b[0m\u001b[32;49mpip install --upgrade pip\u001b[0m\n"
          ]
        }
      ],
      "source": [
        "!pip install arxiv wikipedia"
      ]
    },
    {
      "cell_type": "code",
      "execution_count": 4,
      "metadata": {
        "id": "zXI3qaom5a03"
      },
      "outputs": [],
      "source": [
        "## Working With Tools\n",
        "\n",
        "from langchain_community.utilities import ArxivAPIWrapper,WikipediaAPIWrapper\n",
        "from langchain_community.tools import ArxivQueryRun,WikipediaQueryRun\n",
        "\n",
        "## Arxiv And Wikipedia tools\n",
        "arxiv_wrapper=ArxivAPIWrapper(top_k_results=1,doc_content_chars_max=300)\n",
        "arxiv_tool=ArxivQueryRun(api_wrapper=arxiv_wrapper)\n",
        "\n",
        "api_wrapper=WikipediaAPIWrapper(top_k_results=1,doc_content_chars_max=300)\n",
        "wiki_tool=WikipediaQueryRun(api_wrapper=api_wrapper)"
      ]
    },
    {
      "cell_type": "code",
      "execution_count": 5,
      "metadata": {
        "colab": {
          "base_uri": "https://localhost:8080/",
          "height": 70
        },
        "id": "BdE09N5-5xCz",
        "outputId": "23a3c122-7bea-4668-a7bd-6f630df64dd2"
      },
      "outputs": [
        {
          "data": {
            "text/plain": [
              "'Page: Shah Rukh Khan\\nSummary: Shah Rukh Khan (pronounced [ˈʃaːɦɾʊx xäːn] ; born 2 November 1965), also known by the initialism SRK, is an Indian actor and film producer who works in Hindi cinema. Referred to in the media as the \"Baadshah of Bollywood\" and \"King Khan\", he has appeared in more than 10'"
            ]
          },
          "execution_count": 5,
          "metadata": {},
          "output_type": "execute_result"
        }
      ],
      "source": [
        "wiki_tool.invoke(\"who is Sharukh Khan\")"
      ]
    },
    {
      "cell_type": "code",
      "execution_count": 6,
      "metadata": {
        "colab": {
          "base_uri": "https://localhost:8080/",
          "height": 70
        },
        "id": "thYaNDYy5w_w",
        "outputId": "24d5bb06-6d9a-4dd0-c5db-ca4ae3e464b6"
      },
      "outputs": [
        {
          "data": {
            "text/plain": [
              "\"Published: 2024-07-22\\nTitle: Attention Is All You Need But You Don't Need All Of It For Inference of Large Language Models\\nAuthors: Georgy Tyukin, Gbetondji J-S Dovonon, Jean Kaddour, Pasquale Minervini\\nSummary: The inference demand for LLMs has skyrocketed in recent months, and serving\\nmodels with \""
            ]
          },
          "execution_count": 6,
          "metadata": {},
          "output_type": "execute_result"
        }
      ],
      "source": [
        "arxiv_tool.invoke(\"Attention is all you need\")"
      ]
    },
    {
      "cell_type": "code",
      "execution_count": 7,
      "metadata": {
        "id": "ek52WFGI6lTq"
      },
      "outputs": [],
      "source": [
        "tools=[wiki_tool]"
      ]
    },
    {
      "cell_type": "code",
      "execution_count": 8,
      "metadata": {
        "id": "eC6q3tTg6slO"
      },
      "outputs": [],
      "source": [
        "## Langgraph Application\n",
        "from langgraph.graph.message import add_messages\n",
        "class State(TypedDict):\n",
        "  messages:Annotated[list,add_messages]"
      ]
    },
    {
      "cell_type": "code",
      "execution_count": 9,
      "metadata": {
        "id": "iXiurpCm7AWz"
      },
      "outputs": [],
      "source": [
        "from langgraph.graph import StateGraph,START,END"
      ]
    },
    {
      "cell_type": "code",
      "execution_count": 10,
      "metadata": {
        "id": "X9nAxTc17JNh"
      },
      "outputs": [],
      "source": [
        "graph_builder= StateGraph(State)\n"
      ]
    },
    {
      "cell_type": "code",
      "execution_count": 11,
      "metadata": {
        "id": "Kc-4UeZa7SU_"
      },
      "outputs": [],
      "source": [
        "from langchain_groq import ChatGroq"
      ]
    },
    {
      "cell_type": "code",
      "execution_count": 12,
      "metadata": {},
      "outputs": [],
      "source": [
        "import os\n",
        "from langchain_groq import ChatGroq\n",
        "from dotenv import load_dotenv\n",
        "\n",
        "load_dotenv()\n",
        "\n",
        "groq_api_key = os.getenv(\"GROQ_API_KEY\")  # Ensure this is a string\n"
      ]
    },
    {
      "cell_type": "code",
      "execution_count": 13,
      "metadata": {
        "colab": {
          "base_uri": "https://localhost:8080/"
        },
        "id": "63tR5KIk7Zyd",
        "outputId": "a027ab06-88d5-4f7d-f119-8eefdd79a37e"
      },
      "outputs": [
        {
          "data": {
            "text/plain": [
              "ChatGroq(client=<groq.resources.chat.completions.Completions object at 0x7d59ecce56c0>, async_client=<groq.resources.chat.completions.AsyncCompletions object at 0x7d59ecb14850>, model_name='deepseek-r1-distill-llama-70b', model_kwargs={}, groq_api_key=SecretStr('**********'))"
            ]
          },
          "execution_count": 13,
          "metadata": {},
          "output_type": "execute_result"
        }
      ],
      "source": [
        "llm = ChatGroq(api_key=groq_api_key, model_name=\"deepseek-r1-distill-llama-70b\")\n",
        "\n",
        "# print(llm)\n",
        "llm"
      ]
    },
    {
      "cell_type": "code",
      "execution_count": 14,
      "metadata": {
        "id": "HS2TyqvY8BcL"
      },
      "outputs": [],
      "source": [
        "llm_with_tools=llm.bind_tools(tools=tools)"
      ]
    },
    {
      "cell_type": "code",
      "execution_count": 15,
      "metadata": {
        "id": "uhh-mYKn7sPU"
      },
      "outputs": [],
      "source": [
        "def chatbot(state:State):\n",
        "  return {\"messages\":[llm_with_tools.invoke(state[\"messages\"])]}"
      ]
    },
    {
      "cell_type": "code",
      "execution_count": 16,
      "metadata": {
        "id": "81qlR2Kl8uZL"
      },
      "outputs": [],
      "source": [
        "from langgraph.prebuilt import ToolNode,tools_condition"
      ]
    },
    {
      "cell_type": "code",
      "execution_count": 17,
      "metadata": {
        "id": "3prnJx4M8YLF"
      },
      "outputs": [
        {
          "data": {
            "text/plain": [
              "<langgraph.graph.state.StateGraph at 0x7d5a00fe6110>"
            ]
          },
          "execution_count": 17,
          "metadata": {},
          "output_type": "execute_result"
        }
      ],
      "source": [
        "graph_builder.add_node(\"chatbot\",chatbot)\n",
        "tool_node = ToolNode(tools=tools)\n",
        "graph_builder.add_node(\"tools\", tool_node)\n",
        "\n",
        "graph_builder.add_conditional_edges(\n",
        "    \"chatbot\",\n",
        "    tools_condition,\n",
        ")\n",
        "graph_builder.add_edge(\"tools\", \"chatbot\")\n",
        "graph_builder.add_edge(START,\"chatbot\")\n"
      ]
    },
    {
      "cell_type": "code",
      "execution_count": 18,
      "metadata": {
        "id": "q1ztKyS79-YE"
      },
      "outputs": [],
      "source": [
        "graph=graph_builder.compile()"
      ]
    },
    {
      "cell_type": "code",
      "execution_count": 19,
      "metadata": {
        "colab": {
          "base_uri": "https://localhost:8080/",
          "height": 236
        },
        "id": "bg6et4vC-B_Y",
        "outputId": "0a887337-8b74-4cb9-adfd-3ab7abc47900"
      },
      "outputs": [
        {
          "data": {
            "image/png": "[encoded data removed]",
            "text/plain": [
              "<IPython.core.display.Image object>"
            ]
          },
          "metadata": {},
          "output_type": "display_data"
        }
      ],
      "source": [
        "from IPython.display import Image, display\n",
        "\n",
        "try:\n",
        "    display(Image(graph.get_graph().draw_mermaid_png()))\n",
        "except Exception:\n",
        "    # This requires some extra dependencies and is optional\n",
        "    pass"
      ]
    },
    {
      "cell_type": "code",
      "execution_count": 20,
      "metadata": {
        "colab": {
          "base_uri": "https://localhost:8080/"
        },
        "id": "_1M_0ihg-OK3",
        "outputId": "1cd34556-05a4-4bec-d20e-945fe3c46a44"
      },
      "outputs": [
        {
          "name": "stdout",
          "output_type": "stream",
          "text": [
            "================================\u001b[1m Human Message \u001b[0m=================================\n",
            "\n",
            "Hi there!, My name is John\n",
            "==================================\u001b[1m Ai Message \u001b[0m==================================\n",
            "Tool Calls:\n",
            "  wikipedia (call_kfh2)\n",
            " Call ID: call_kfh2\n",
            "  Args:\n",
            "    query: Artificial Intelligence\n",
            "=================================\u001b[1m Tool Message \u001b[0m=================================\n",
            "Name: wikipedia\n",
            "\n",
            "Page: Artificial intelligence\n",
            "Summary: Artificial intelligence (AI) refers to the capability of computational systems to perform tasks typically associated with human intelligence, such as learning, reasoning, problem-solving, perception, and decision-making. It is a field of research in computer sc\n",
            "==================================\u001b[1m Ai Message \u001b[0m==================================\n"
          ]
        }
      ],
      "source": [
        "user_input=\"Hi there!, My name is John\"\n",
        "\n",
        "events=graph.stream(\n",
        "     {\"messages\": [(\"user\", user_input)]},stream_mode=\"values\"\n",
        ")\n",
        "\n",
        "for event in events:\n",
        "  event[\"messages\"][-1].pretty_print()"
      ]
    },
    {
      "cell_type": "code",
      "execution_count": 21,
      "metadata": {
        "colab": {
          "base_uri": "https://localhost:8080/"
        },
        "id": "HnWrp7Xe-xey",
        "outputId": "abcb7807-11bd-4a09-dafc-bb32dfff3c9e"
      },
      "outputs": [
        {
          "name": "stdout",
          "output_type": "stream",
          "text": [
            "================================\u001b[1m Human Message \u001b[0m=================================\n",
            "\n",
            "what is RLHF.\n",
            "==================================\u001b[1m Ai Message \u001b[0m==================================\n",
            "\n",
            "RLHF stands for \"Real-time Load Handling\" or \"Real-time Load Handling Framework.\" It refers to a system or framework designed to manage and handle real-time loads efficiently, typically in distributed systems or cloud computing.\n"
          ]
        }
      ],
      "source": [
        "user_input = \"what is RLHF.\"\n",
        "\n",
        "# The config is the **second positional argument** to stream() or invoke()!\n",
        "events = graph.stream(\n",
        "    {\"messages\": [(\"user\", user_input)]},stream_mode=\"values\"\n",
        ")\n",
        "for event in events:\n",
        "    event[\"messages\"][-1].pretty_print()"
      ]
    },
    {
      "cell_type": "code",
      "execution_count": null,
      "metadata": {},
      "outputs": [
        {
          "name": "stdout",
          "output_type": "stream",
          "text": [
            "================================\u001b[1m Human Message \u001b[0m=================================\n",
            "\n",
            "\n",
            "==================================\u001b[1m Ai Message \u001b[0m==================================\n",
            "\n",
            "Sure! Let me explain the tools available for you to use in your applications. Currently, I have a tool named \"wikipedia\" which is a wrapper around Wikipedia. This tool is particularly useful when you need to answer general knowledge questions about people, places, companies, facts, historical events, or other subjects. To use this tool, you would call the function and provide a query parameter. For example, if you want to look up information about \"Albert Einstein\", you would structure your call like this: `{\"function\": \"wikipedia\", \"arguments\": {\"query\": \"Albert Einstein\"}}` This way, the tool will fetch the relevant information from Wikipedia. Each function call should be formatted within `<tool_call>` tags, specifying the function name and the arguments as a JSON object. Let me know if you need more details on how to integrate this into your project!\n",
            "================================\u001b[1m Human Message \u001b[0m=================================\n",
            "\n",
            "I want to know about Generative AI\n",
            "==================================\u001b[1m Ai Message \u001b[0m==================================\n",
            "Tool Calls:\n",
            "  wikipedia (call_ry59)\n",
            " Call ID: call_ry59\n",
            "  Args:\n",
            "    query: Generative AI\n",
            "=================================\u001b[1m Tool Message \u001b[0m=================================\n",
            "Name: wikipedia\n",
            "\n",
            "Page: Generative artificial intelligence\n",
            "Summary: Generative artificial intelligence (generative AI, GenAI, or GAI) is a subset of artificial intelligence that uses generative models to produce text, images, videos, or other forms of data. These models learn the underlying patterns and structures of\n",
            "==================================\u001b[1m Ai Message \u001b[0m==================================\n",
            "Tool Calls:\n",
            "  wikipedia (call_pwnp)\n",
            " Call ID: call_pwnp\n",
            "  Args:\n",
            "    query: Generative AI\n",
            "=================================\u001b[1m Tool Message \u001b[0m=================================\n",
            "Name: wikipedia\n",
            "\n",
            "Page: Generative artificial intelligence\n",
            "Summary: Generative artificial intelligence (generative AI, GenAI, or GAI) is a subset of artificial intelligence that uses generative models to produce text, images, videos, or other forms of data. These models learn the underlying patterns and structures of\n",
            "==================================\u001b[1m Ai Message \u001b[0m==================================\n",
            "\n",
            "Generative artificial intelligence (GenAI or GAI) is a subset of artificial intelligence focused on creating content, such as text, images, videos, or other data types, by learning from existing data. It uses advanced machine learning models, particularly generative models like GANs (Generative Adversarial Networks) and transformers, to generate new, synthetic content that resembles the patterns and structures found in the training data.\n",
            "\n",
            "### Key Features of Generative AI:\n",
            "1. **Text Generation**: Models like GPT (Generative Pre-trained Transformer) can write essays, stories, code, or even conversations.\n",
            "2. **Image and Video Generation**: Tools like DALL·E or MidJourney can create images from textual descriptions or generate videos.\n",
            "3. **Data Augmentation**: Generative AI can produce synthetic data to supplement limited datasets, useful in machine learning model training.\n",
            "4. **Creative Tools**: It powers tools for artists, writers, and designers, aiding in brainstorming or prototyping.\n",
            "\n",
            "### Applications:\n",
            "- **Content Creation**: Assisting in writing, design, and media production.\n",
            "- **Entertainment**: Generating stories, characters, or even entire games.\n",
            "- **Education**: Helping students with essay writing or study materials.\n",
            "- **Business**: Automating tasks like report writing or marketing copy.\n",
            "\n",
            "### Ethical Considerations:\n",
            "Generative AI raises concerns about misinformation, copyright issues, and the potential for misuse. Ensuring ethical use and proper regulation is crucial as the technology evolves.\n",
            "\n",
            "This technology is rapidly advancing, offering immense potential across industries while challenging society to address its implications thoughtfully.\n",
            "================================\u001b[1m Human Message \u001b[0m=================================\n",
            "\n",
            "what is a GenAI?\n",
            "==================================\u001b[1m Ai Message \u001b[0m==================================\n",
            "\n",
            "<response>\n",
            "Generative AI (GenAI) refers to a type of artificial intelligence that focuses on generating new content, such as text, images, videos, or other data types, by learning patterns from existing data. It uses advanced machine learning models like GANs (Generative Adversarial Networks) and transformers to create synthetic content that mimics the patterns found in the training data.\n",
            "\n",
            "### Key Features:\n",
            "- **Text Generation**: Can write essays, stories, code, or conversations.\n",
            "- **Image and Video Generation**: Can create images from text or generate videos.\n",
            "- **Data Augmentation**: Produces synthetic data to supplement limited datasets.\n",
            "- **Creative Tools**: Assists artists, writers, and designers in brainstorming or prototyping.\n",
            "\n",
            "### Applications:\n",
            "- **Content Creation**: Assists in writing, design, and media production.\n",
            "- **Entertainment**: Generates stories, characters, or games.\n",
            "- **Education**: Helps with essay writing or study materials.\n",
            "- **Business**: Automates tasks like report writing or marketing copy.\n",
            "\n",
            "### Ethical Considerations:\n",
            "- Raises concerns about misinformation, copyright issues, and misuse.\n",
            "- Requires ethical use and proper regulation as the technology evolves.\n",
            "\n",
            "In summary, GenAI is a powerful tool with vast potential across industries, but it also challenges society to address its implications thoughtfully.\n",
            "</response>\n",
            "================================\u001b[1m Human Message \u001b[0m=================================\n",
            "\n",
            "GenAI\n",
            "==================================\u001b[1m Ai Message \u001b[0m==================================\n",
            "\n",
            "Generative AI (GenAI) stands for **Generative Artificial Intelligence**. It refers to a type of artificial intelligence designed to generate new content, such as text, images, videos, or other forms of data, by learning patterns from existing data. This technology leverages advanced machine learning models, such as **transformers** and **generative adversarial networks (GANs)**, to create synthetic content that mimics the patterns and structures found in the training data.\n",
            "\n",
            "### Key Features:\n",
            "- **Text Generation**: Can produce essays, stories, code, or even conversations.\n",
            "- **Image and Video Generation**: Tools like DALL·E or MidJourney can create images from text or generate videos.\n",
            "- **Data Augmentation**: Generates synthetic data to supplement limited datasets.\n",
            "- **Creative Tools**: Assists artists, writers, and designers in brainstorming or prototyping.\n",
            "\n",
            "### Applications:\n",
            "- **Content Creation**: Helps with writing, design, and media production.\n",
            "- **Entertainment**: Generates stories, characters, or even entire games.\n",
            "- **Education**: Aids students with essay writing or study materials.\n",
            "- **Business**: Automates tasks like report writing or marketing copy.\n",
            "\n",
            "### Ethical Considerations:\n",
            "- **Misinformation**: Risk of generating false or misleading content.\n",
            "- **Copyright Issues**: Questions about ownership of AI-generated content.\n",
            "- **Bias and Fairness**: Potential for biased outputs based on training data.\n",
            "\n",
            "In summary, GenAI is a powerful and versatile technology with applications across industries, but it also raises important ethical questions that need to be addressed. Let me know if you'd like more details!\n",
            "================================\u001b[1m Human Message \u001b[0m=================================\n",
            "\n",
            "\n",
            "==================================\u001b[1m Ai Message \u001b[0m==================================\n",
            "Tool Calls:\n",
            "  wikipedia (call_8e27)\n",
            " Call ID: call_8e27\n",
            "  Args:\n",
            "    query: Generative AI\n",
            "=================================\u001b[1m Tool Message \u001b[0m=================================\n",
            "Name: wikipedia\n",
            "\n",
            "Page: Generative artificial intelligence\n",
            "Summary: Generative artificial intelligence (generative AI, GenAI, or GAI) is a subset of artificial intelligence that uses generative models to produce text, images, videos, or other forms of data. These models learn the underlying patterns and structures of\n",
            "==================================\u001b[1m Ai Message \u001b[0m==================================\n",
            "\n",
            "\n",
            "\n",
            "Generative AI is particularly useful for tasks such as:\n",
            "- **Text Generation**: Writing essays, stories, code, etc.\n",
            "- **Image Generation**: Creating images from descriptions.\n",
            "- **Video Generation**: Generating videos based on scripts or descriptions.\n",
            "- **Data Augmentation**: Creating synthetic data to supplement existing datasets.\n",
            "\n",
            "The tool can be used to assist in various applications:\n",
            "- **Content Creation**: Assisting in writing, design, and media production.\n",
            "- **Entertainment**: Generating stories, characters, or games.\n",
            "- **Education**: Helping with study materials or essay writing.\n",
            "- **Business**: Automating tasks like report writing or marketing copy.\n",
            "\n",
            "However, generative AI also raises ethical considerations:\n",
            "- **Misinformation**: Potential to generate false or misleading information.\n",
            "- **Copyright Issues**: Questions about ownership of AI-generated content.\n",
            "- **Bias and Fairness**: Risk of generating biased content based on training data.\n",
            "\n",
            "In summary, Generative AI is a transformative technology with vast applications but also significant ethical challenges that need careful consideration and management.\n",
            "================================\u001b[1m Human Message \u001b[0m=================================\n",
            "\n",
            "\n",
            "==================================\u001b[1m Ai Message \u001b[0m==================================\n",
            "\n",
            "\n",
            "\n",
            "Generative AI, or GenAI, is a subset of artificial intelligence focused on generating new content, such as text, images, videos, or other forms of data, by learning patterns from existing data. It uses advanced machine learning models, particularly generative models like GANs (Generative Adversarial Networks) and transformers, to create synthetic content that mimics the patterns and structures found in the training data.\n",
            "\n",
            "### Key Features:\n",
            "1. **Text Generation**: Models like GPT (Generative Pre-trained Transformer) can write essays, stories, code, or even conversations.\n",
            "2. **Image and Video Generation**: Tools like DALL·E or MidJourney can create images from textual descriptions or generate videos.\n",
            "3. **Data Augmentation**: Generative AI can produce synthetic data to supplement limited datasets, useful in machine learning model training.\n",
            "4. **Creative Tools**: It powers tools for artists, writers, and designers, aiding in brainstorming or prototyping.\n",
            "\n",
            "### Applications:\n",
            "- **Content Creation**: Assisting in writing, design, and media production.\n",
            "- **Entertainment**: Generating stories, characters, or even entire games.\n",
            "- **Education**: Helping students with essay writing or study materials.\n",
            "- **Business**: Automating tasks like report writing or marketing copy.\n",
            "\n",
            "### Ethical Considerations:\n",
            "Generative AI raises concerns about misinformation, copyright issues, and the potential for misuse. Ensuring ethical use and proper regulation is crucial as the technology evolves.\n",
            "\n",
            "This technology is rapidly advancing, offering immense potential across industries while challenging society to address its implications thoughtfully.\n"
          ]
        }
      ],
      "source": [
        "# Import required modules\n",
        "from langchain_core.messages import AIMessage, HumanMessage\n",
        "\n",
        "# Initialize chat history\n",
        "chat_history = []\n",
        "\n",
        "# Start the chat loop\n",
        "while True:\n",
        "    user_input = input(\"You: \")  # Take user input\n",
        "\n",
        "    if user_input.lower() in [\"exit\", \"quit\", \"bye\", \"q\"]:\n",
        "        print(\"Chatbot: Goodbye!\")\n",
        "        break  # Exit the loop if the user wants to quit\n",
        "\n",
        "    # Append the user's message to the chat history\n",
        "    chat_history.append(HumanMessage(user_input))\n",
        "\n",
        "    # Generate a response\n",
        "    events = graph.stream({\"messages\": chat_history}, stream_mode=\"values\")\n",
        "\n",
        "    # Print the AI's response\n",
        "    for event in events:\n",
        "        ai_message = event[\"messages\"][-1]\n",
        "        ai_message.pretty_print()  # Pretty print the AI's response\n",
        "        chat_history.append(AIMessage(ai_message.content))  # Append AI response to history\n"
      ]
    }
  ],
  "metadata": {
    "accelerator": "GPU",
    "colab": {
      "gpuType": "L4",
      "machine_shape": "hm",
      "provenance": []
    },
    "kernelspec": {
      "display_name": "Python 3",
      "name": "python3"
    },
    "language_info": {
      "codemirror_mode": {
        "name": "ipython",
        "version": 3
      },
      "file_extension": ".py",
      "mimetype": "text/x-python",
      "name": "python",
      "nbconvert_exporter": "python",
      "pygments_lexer": "ipython3",
      "version": "3.10.12"
    }
  },
  "nbformat": 4,
  "nbformat_minor": 0
}
