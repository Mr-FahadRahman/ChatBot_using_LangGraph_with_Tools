{
  "cells": [
    {
      "cell_type": "code",
      "execution_count": 1,
      "metadata": {
        "colab": {
          "base_uri": "https://localhost:8080/"
        },
        "id": "7FbteuSO3tV5",
        "outputId": "9d0fad36-250c-4158-cf2c-8fb1e09a53e9"
      },
      "outputs": [
        {
          "name": "stdout",
          "output_type": "stream",
          "text": [
            "Defaulting to user installation because normal site-packages is not writeable\n",
            "Requirement already satisfied: langgraph in /home/fahad/.local/lib/python3.10/site-packages (0.3.2)\n",
            "Requirement already satisfied: langsmith in /home/fahad/.local/lib/python3.10/site-packages (0.3.11)\n",
            "Requirement already satisfied: langchain in /home/fahad/.local/lib/python3.10/site-packages (0.3.20)\n",
            "Requirement already satisfied: langchain_groq in /home/fahad/.local/lib/python3.10/site-packages (0.2.4)\n",
            "Requirement already satisfied: langchain_community in /home/fahad/.local/lib/python3.10/site-packages (0.3.19)\n",
            "Requirement already satisfied: langchain-core<0.4,>=0.1 in /home/fahad/.local/lib/python3.10/site-packages (from langgraph) (0.3.41)\n",
            "Requirement already satisfied: langgraph-checkpoint<3.0.0,>=2.0.10 in /home/fahad/.local/lib/python3.10/site-packages (from langgraph) (2.0.16)\n",
            "Requirement already satisfied: langgraph-prebuilt<0.2,>=0.1.1 in /home/fahad/.local/lib/python3.10/site-packages (from langgraph) (0.1.1)\n",
            "Requirement already satisfied: langgraph-sdk<0.2.0,>=0.1.42 in /home/fahad/.local/lib/python3.10/site-packages (from langgraph) (0.1.53)\n",
            "Requirement already satisfied: httpx<1,>=0.23.0 in /home/fahad/.local/lib/python3.10/site-packages (from langsmith) (0.27.0)\n",
            "Requirement already satisfied: orjson<4.0.0,>=3.9.14 in /home/fahad/.local/lib/python3.10/site-packages (from langsmith) (3.10.15)\n",
            "Requirement already satisfied: packaging>=23.2 in /home/fahad/.local/lib/python3.10/site-packages (from langsmith) (24.0)\n",
            "Requirement already satisfied: pydantic<3,>=1 in /home/fahad/.local/lib/python3.10/site-packages (from langsmith) (2.10.6)\n",
            "Requirement already satisfied: requests<3,>=2 in /home/fahad/.local/lib/python3.10/site-packages (from langsmith) (2.32.3)\n",
            "Requirement already satisfied: requests-toolbelt<2.0.0,>=1.0.0 in /home/fahad/.local/lib/python3.10/site-packages (from langsmith) (1.0.0)\n",
            "Requirement already satisfied: zstandard<0.24.0,>=0.23.0 in /home/fahad/.local/lib/python3.10/site-packages (from langsmith) (0.23.0)\n",
            "Requirement already satisfied: langchain-text-splitters<1.0.0,>=0.3.6 in /home/fahad/.local/lib/python3.10/site-packages (from langchain) (0.3.6)\n",
            "Requirement already satisfied: SQLAlchemy<3,>=1.4 in /home/fahad/.local/lib/python3.10/site-packages (from langchain) (2.0.38)\n",
            "Requirement already satisfied: PyYAML>=5.3 in /usr/lib/python3/dist-packages (from langchain) (5.4.1)\n",
            "Requirement already satisfied: async-timeout<5.0.0,>=4.0.0 in /home/fahad/.local/lib/python3.10/site-packages (from langchain) (4.0.3)\n",
            "Requirement already satisfied: groq<1,>=0.4.1 in /home/fahad/.local/lib/python3.10/site-packages (from langchain_groq) (0.18.0)\n",
            "Requirement already satisfied: aiohttp<4.0.0,>=3.8.3 in /home/fahad/.local/lib/python3.10/site-packages (from langchain_community) (3.11.13)\n",
            "Requirement already satisfied: tenacity!=8.4.0,<10,>=8.1.0 in /home/fahad/.local/lib/python3.10/site-packages (from langchain_community) (9.0.0)\n",
            "Requirement already satisfied: dataclasses-json<0.7,>=0.5.7 in /home/fahad/.local/lib/python3.10/site-packages (from langchain_community) (0.6.7)\n",
            "Requirement already satisfied: pydantic-settings<3.0.0,>=2.4.0 in /home/fahad/.local/lib/python3.10/site-packages (from langchain_community) (2.8.1)\n",
            "Requirement already satisfied: httpx-sse<1.0.0,>=0.4.0 in /home/fahad/.local/lib/python3.10/site-packages (from langchain_community) (0.4.0)\n",
            "Requirement already satisfied: numpy<3,>=1.26.2 in /home/fahad/.local/lib/python3.10/site-packages (from langchain_community) (1.26.4)\n",
            "Requirement already satisfied: aiohappyeyeballs>=2.3.0 in /home/fahad/.local/lib/python3.10/site-packages (from aiohttp<4.0.0,>=3.8.3->langchain_community) (2.4.6)\n",
            "Requirement already satisfied: aiosignal>=1.1.2 in /home/fahad/.local/lib/python3.10/site-packages (from aiohttp<4.0.0,>=3.8.3->langchain_community) (1.3.2)\n",
            "Requirement already satisfied: attrs>=17.3.0 in /home/fahad/.local/lib/python3.10/site-packages (from aiohttp<4.0.0,>=3.8.3->langchain_community) (23.2.0)\n",
            "Requirement already satisfied: frozenlist>=1.1.1 in /home/fahad/.local/lib/python3.10/site-packages (from aiohttp<4.0.0,>=3.8.3->langchain_community) (1.5.0)\n",
            "Requirement already satisfied: multidict<7.0,>=4.5 in /home/fahad/.local/lib/python3.10/site-packages (from aiohttp<4.0.0,>=3.8.3->langchain_community) (6.1.0)\n",
            "Requirement already satisfied: propcache>=0.2.0 in /home/fahad/.local/lib/python3.10/site-packages (from aiohttp<4.0.0,>=3.8.3->langchain_community) (0.3.0)\n",
            "Requirement already satisfied: yarl<2.0,>=1.17.0 in /home/fahad/.local/lib/python3.10/site-packages (from aiohttp<4.0.0,>=3.8.3->langchain_community) (1.18.3)\n",
            "Requirement already satisfied: marshmallow<4.0.0,>=3.18.0 in /home/fahad/.local/lib/python3.10/site-packages (from dataclasses-json<0.7,>=0.5.7->langchain_community) (3.26.1)\n",
            "Requirement already satisfied: typing-inspect<1,>=0.4.0 in /home/fahad/.local/lib/python3.10/site-packages (from dataclasses-json<0.7,>=0.5.7->langchain_community) (0.9.0)\n",
            "Requirement already satisfied: anyio<5,>=3.5.0 in /home/fahad/.local/lib/python3.10/site-packages (from groq<1,>=0.4.1->langchain_groq) (4.4.0)\n",
            "Requirement already satisfied: distro<2,>=1.7.0 in /usr/lib/python3/dist-packages (from groq<1,>=0.4.1->langchain_groq) (1.7.0)\n",
            "Requirement already satisfied: sniffio in /home/fahad/.local/lib/python3.10/site-packages (from groq<1,>=0.4.1->langchain_groq) (1.3.1)\n",
            "Requirement already satisfied: typing-extensions<5,>=4.10 in /home/fahad/.local/lib/python3.10/site-packages (from groq<1,>=0.4.1->langchain_groq) (4.12.2)\n",
            "Requirement already satisfied: certifi in /home/fahad/.local/lib/python3.10/site-packages (from httpx<1,>=0.23.0->langsmith) (2023.7.22)\n",
            "Requirement already satisfied: httpcore==1.* in /home/fahad/.local/lib/python3.10/site-packages (from httpx<1,>=0.23.0->langsmith) (1.0.5)\n",
            "Requirement already satisfied: idna in /home/fahad/.local/lib/python3.10/site-packages (from httpx<1,>=0.23.0->langsmith) (2.10)\n",
            "Requirement already satisfied: h11<0.15,>=0.13 in /home/fahad/.local/lib/python3.10/site-packages (from httpcore==1.*->httpx<1,>=0.23.0->langsmith) (0.14.0)\n",
            "Requirement already satisfied: jsonpatch<2.0,>=1.33 in /home/fahad/.local/lib/python3.10/site-packages (from langchain-core<0.4,>=0.1->langgraph) (1.33)\n",
            "Requirement already satisfied: msgpack<2.0.0,>=1.1.0 in /home/fahad/.local/lib/python3.10/site-packages (from langgraph-checkpoint<3.0.0,>=2.0.10->langgraph) (1.1.0)\n",
            "Requirement already satisfied: annotated-types>=0.6.0 in /home/fahad/.local/lib/python3.10/site-packages (from pydantic<3,>=1->langsmith) (0.7.0)\n",
            "Requirement already satisfied: pydantic-core==2.27.2 in /home/fahad/.local/lib/python3.10/site-packages (from pydantic<3,>=1->langsmith) (2.27.2)\n",
            "Requirement already satisfied: python-dotenv>=0.21.0 in /home/fahad/.local/lib/python3.10/site-packages (from pydantic-settings<3.0.0,>=2.4.0->langchain_community) (1.0.1)\n",
            "Requirement already satisfied: charset-normalizer<4,>=2 in /home/fahad/.local/lib/python3.10/site-packages (from requests<3,>=2->langsmith) (3.3.2)\n",
            "Requirement already satisfied: urllib3<3,>=1.21.1 in /home/fahad/.local/lib/python3.10/site-packages (from requests<3,>=2->langsmith) (2.2.1)\n",
            "Requirement already satisfied: greenlet!=0.4.17 in /home/fahad/.local/lib/python3.10/site-packages (from SQLAlchemy<3,>=1.4->langchain) (3.1.1)\n",
            "Requirement already satisfied: exceptiongroup>=1.0.2 in /home/fahad/.local/lib/python3.10/site-packages (from anyio<5,>=3.5.0->groq<1,>=0.4.1->langchain_groq) (1.2.1)\n",
            "Requirement already satisfied: jsonpointer>=1.9 in /home/fahad/.local/lib/python3.10/site-packages (from jsonpatch<2.0,>=1.33->langchain-core<0.4,>=0.1->langgraph) (3.0.0)\n",
            "Requirement already satisfied: mypy-extensions>=0.3.0 in /home/fahad/.local/lib/python3.10/site-packages (from typing-inspect<1,>=0.4.0->dataclasses-json<0.7,>=0.5.7->langchain_community) (1.0.0)\n",
            "\n",
            "\u001b[1m[\u001b[0m\u001b[34;49mnotice\u001b[0m\u001b[1;39;49m]\u001b[0m\u001b[39;49m A new release of pip is available: \u001b[0m\u001b[31;49m24.3.1\u001b[0m\u001b[39;49m -> \u001b[0m\u001b[32;49m25.0.1\u001b[0m\n",
            "\u001b[1m[\u001b[0m\u001b[34;49mnotice\u001b[0m\u001b[1;39;49m]\u001b[0m\u001b[39;49m To update, run: \u001b[0m\u001b[32;49mpip install --upgrade pip\u001b[0m\n"
          ]
        }
      ],
      "source": [
        "!pip install langgraph langsmith langchain langchain_groq langchain_community"
      ]
    },
    {
      "cell_type": "code",
      "execution_count": 1,
      "metadata": {
        "id": "7nby_Ijb4iDe"
      },
      "outputs": [],
      "source": [
        "from typing import Annotated\n",
        "from typing_extensions import TypedDict"
      ]
    },
    {
      "cell_type": "code",
      "execution_count": 3,
      "metadata": {
        "colab": {
          "base_uri": "https://localhost:8080/"
        },
        "id": "em3GQzI_6K8H",
        "outputId": "ee1ee594-1699-4ca3-dcbd-5632cb873741"
      },
      "outputs": [
        {
          "name": "stdout",
          "output_type": "stream",
          "text": [
            "Defaulting to user installation because normal site-packages is not writeable\n",
            "Requirement already satisfied: arxiv in /home/fahad/.local/lib/python3.10/site-packages (2.1.3)\n",
            "Requirement already satisfied: wikipedia in /home/fahad/.local/lib/python3.10/site-packages (1.4.0)\n",
            "Requirement already satisfied: feedparser~=6.0.10 in /home/fahad/.local/lib/python3.10/site-packages (from arxiv) (6.0.11)\n",
            "Requirement already satisfied: requests~=2.32.0 in /home/fahad/.local/lib/python3.10/site-packages (from arxiv) (2.32.3)\n",
            "Requirement already satisfied: beautifulsoup4 in /usr/lib/python3/dist-packages (from wikipedia) (4.10.0)\n",
            "Requirement already satisfied: sgmllib3k in /home/fahad/.local/lib/python3.10/site-packages (from feedparser~=6.0.10->arxiv) (1.0.0)\n",
            "Requirement already satisfied: charset-normalizer<4,>=2 in /home/fahad/.local/lib/python3.10/site-packages (from requests~=2.32.0->arxiv) (3.3.2)\n",
            "Requirement already satisfied: idna<4,>=2.5 in /home/fahad/.local/lib/python3.10/site-packages (from requests~=2.32.0->arxiv) (2.10)\n",
            "Requirement already satisfied: urllib3<3,>=1.21.1 in /home/fahad/.local/lib/python3.10/site-packages (from requests~=2.32.0->arxiv) (2.2.1)\n",
            "Requirement already satisfied: certifi>=2017.4.17 in /home/fahad/.local/lib/python3.10/site-packages (from requests~=2.32.0->arxiv) (2023.7.22)\n",
            "\n",
            "\u001b[1m[\u001b[0m\u001b[34;49mnotice\u001b[0m\u001b[1;39;49m]\u001b[0m\u001b[39;49m A new release of pip is available: \u001b[0m\u001b[31;49m24.3.1\u001b[0m\u001b[39;49m -> \u001b[0m\u001b[32;49m25.0.1\u001b[0m\n",
            "\u001b[1m[\u001b[0m\u001b[34;49mnotice\u001b[0m\u001b[1;39;49m]\u001b[0m\u001b[39;49m To update, run: \u001b[0m\u001b[32;49mpip install --upgrade pip\u001b[0m\n"
          ]
        }
      ],
      "source": [
        "!pip install arxiv wikipedia"
      ]
    },
    {
      "cell_type": "code",
      "execution_count": 2,
      "metadata": {
        "id": "zXI3qaom5a03"
      },
      "outputs": [],
      "source": [
        "## Working With Tools\n",
        "\n",
        "from langchain_community.utilities import ArxivAPIWrapper,WikipediaAPIWrapper\n",
        "from langchain_community.tools import ArxivQueryRun,WikipediaQueryRun\n",
        "\n",
        "## Arxiv And Wikipedia tools\n",
        "arxiv_wrapper=ArxivAPIWrapper(top_k_results=1,doc_content_chars_max=300)\n",
        "arxiv_tool=ArxivQueryRun(api_wrapper=arxiv_wrapper)\n",
        "\n",
        "api_wrapper=WikipediaAPIWrapper(top_k_results=1,doc_content_chars_max=300)\n",
        "wiki_tool=WikipediaQueryRun(api_wrapper=api_wrapper)"
      ]
    },
    {
      "cell_type": "code",
      "execution_count": 3,
      "metadata": {
        "colab": {
          "base_uri": "https://localhost:8080/",
          "height": 70
        },
        "id": "BdE09N5-5xCz",
        "outputId": "23a3c122-7bea-4668-a7bd-6f630df64dd2"
      },
      "outputs": [
        {
          "data": {
            "text/plain": [
              "'Page: Shah Rukh Khan\\nSummary: Shah Rukh Khan (pronounced [ˈʃaːɦɾʊx xäːn] ; born 2 November 1965), also known by the initialism SRK, is an Indian actor and film producer who works in Hindi cinema. Referred to in the media as the \"Baadshah of Bollywood\" and \"King Khan\", he has appeared in more than 10'"
            ]
          },
          "execution_count": 3,
          "metadata": {},
          "output_type": "execute_result"
        }
      ],
      "source": [
        "wiki_tool.invoke(\"who is Sharukh Khan\")"
      ]
    },
    {
      "cell_type": "code",
      "execution_count": 4,
      "metadata": {
        "colab": {
          "base_uri": "https://localhost:8080/",
          "height": 70
        },
        "id": "thYaNDYy5w_w",
        "outputId": "24d5bb06-6d9a-4dd0-c5db-ca4ae3e464b6"
      },
      "outputs": [
        {
          "data": {
            "text/plain": [
              "\"Published: 2024-07-22\\nTitle: Attention Is All You Need But You Don't Need All Of It For Inference of Large Language Models\\nAuthors: Georgy Tyukin, Gbetondji J-S Dovonon, Jean Kaddour, Pasquale Minervini\\nSummary: The inference demand for LLMs has skyrocketed in recent months, and serving\\nmodels with \""
            ]
          },
          "execution_count": 4,
          "metadata": {},
          "output_type": "execute_result"
        }
      ],
      "source": [
        "arxiv_tool.invoke(\"Attention is all you need\")"
      ]
    },
    {
      "cell_type": "code",
      "execution_count": 5,
      "metadata": {
        "id": "ek52WFGI6lTq"
      },
      "outputs": [],
      "source": [
        "tools=[wiki_tool]"
      ]
    },
    {
      "cell_type": "code",
      "execution_count": 6,
      "metadata": {
        "id": "eC6q3tTg6slO"
      },
      "outputs": [],
      "source": [
        "## Langgraph Application\n",
        "from langgraph.graph.message import add_messages\n",
        "class State(TypedDict):\n",
        "  messages:Annotated[list,add_messages]"
      ]
    },
    {
      "cell_type": "code",
      "execution_count": 7,
      "metadata": {
        "id": "iXiurpCm7AWz"
      },
      "outputs": [],
      "source": [
        "from langgraph.graph import StateGraph,START,END"
      ]
    },
    {
      "cell_type": "code",
      "execution_count": 8,
      "metadata": {
        "id": "X9nAxTc17JNh"
      },
      "outputs": [],
      "source": [
        "graph_builder= StateGraph(State)\n"
      ]
    },
    {
      "cell_type": "code",
      "execution_count": 9,
      "metadata": {
        "id": "Kc-4UeZa7SU_"
      },
      "outputs": [],
      "source": [
        "from langchain_groq import ChatGroq"
      ]
    },
    {
      "cell_type": "code",
      "execution_count": 10,
      "metadata": {},
      "outputs": [],
      "source": [
        "import os\n",
        "from langchain_groq import ChatGroq\n",
        "from dotenv import load_dotenv\n",
        "\n",
        "load_dotenv()\n",
        "\n",
        "groq_api_key = os.getenv(\"GROQ_API_KEY\")  # Ensure this is a string\n"
      ]
    },
    {
      "cell_type": "code",
      "execution_count": 11,
      "metadata": {
        "colab": {
          "base_uri": "https://localhost:8080/"
        },
        "id": "63tR5KIk7Zyd",
        "outputId": "a027ab06-88d5-4f7d-f119-8eefdd79a37e"
      },
      "outputs": [
        {
          "data": {
            "text/plain": [
              "ChatGroq(client=<groq.resources.chat.completions.Completions object at 0x767ac127d4e0>, async_client=<groq.resources.chat.completions.AsyncCompletions object at 0x767ac12a1390>, model_name='deepseek-r1-distill-llama-70b', model_kwargs={}, groq_api_key=SecretStr('**********'))"
            ]
          },
          "execution_count": 11,
          "metadata": {},
          "output_type": "execute_result"
        }
      ],
      "source": [
        "llm = ChatGroq(api_key=groq_api_key, model_name=\"deepseek-r1-distill-llama-70b\")\n",
        "\n",
        "# print(llm)\n",
        "llm"
      ]
    },
    {
      "cell_type": "code",
      "execution_count": 12,
      "metadata": {
        "id": "HS2TyqvY8BcL"
      },
      "outputs": [],
      "source": [
        "llm_with_tools=llm.bind_tools(tools=tools)"
      ]
    },
    {
      "cell_type": "code",
      "execution_count": 13,
      "metadata": {
        "id": "uhh-mYKn7sPU"
      },
      "outputs": [],
      "source": [
        "def chatbot(state:State):\n",
        "  return {\"messages\":[llm_with_tools.invoke(state[\"messages\"])]}"
      ]
    },
    {
      "cell_type": "code",
      "execution_count": 14,
      "metadata": {
        "id": "81qlR2Kl8uZL"
      },
      "outputs": [],
      "source": [
        "from langgraph.prebuilt import ToolNode,tools_condition"
      ]
    },
    {
      "cell_type": "code",
      "execution_count": 15,
      "metadata": {
        "id": "3prnJx4M8YLF"
      },
      "outputs": [
        {
          "data": {
            "text/plain": [
              "<langgraph.graph.state.StateGraph at 0x767ad01bf070>"
            ]
          },
          "execution_count": 15,
          "metadata": {},
          "output_type": "execute_result"
        }
      ],
      "source": [
        "graph_builder.add_node(\"chatbot\",chatbot)\n",
        "tool_node = ToolNode(tools=tools)\n",
        "graph_builder.add_node(\"tools\", tool_node)\n",
        "\n",
        "graph_builder.add_conditional_edges(\n",
        "    \"chatbot\",\n",
        "    tools_condition,\n",
        ")\n",
        "graph_builder.add_edge(\"tools\", \"chatbot\")\n",
        "graph_builder.add_edge(START,\"chatbot\")\n"
      ]
    },
    {
      "cell_type": "code",
      "execution_count": 16,
      "metadata": {
        "id": "q1ztKyS79-YE"
      },
      "outputs": [],
      "source": [
        "graph=graph_builder.compile()"
      ]
    },
    {
      "cell_type": "code",
      "execution_count": 17,
      "metadata": {
        "colab": {
          "base_uri": "https://localhost:8080/",
          "height": 236
        },
        "id": "bg6et4vC-B_Y",
        "outputId": "0a887337-8b74-4cb9-adfd-3ab7abc47900"
      },
      "outputs": [
        {
          "data": {
            "image/png": "[encoded data removed]",
            "text/plain": [
              "<IPython.core.display.Image object>"
            ]
          },
          "metadata": {},
          "output_type": "display_data"
        }
      ],
      "source": [
        "from IPython.display import Image, display\n",
        "\n",
        "try:\n",
        "    display(Image(graph.get_graph().draw_mermaid_png()))\n",
        "except Exception:\n",
        "    # This requires some extra dependencies and is optional\n",
        "    pass"
      ]
    },
    {
      "cell_type": "code",
      "execution_count": 18,
      "metadata": {
        "colab": {
          "base_uri": "https://localhost:8080/"
        },
        "id": "_1M_0ihg-OK3",
        "outputId": "1cd34556-05a4-4bec-d20e-945fe3c46a44"
      },
      "outputs": [
        {
          "name": "stdout",
          "output_type": "stream",
          "text": [
            "================================\u001b[1m Human Message \u001b[0m=================================\n",
            "\n",
            "Hi there!, My name is John\n",
            "==================================\u001b[1m Ai Message \u001b[0m==================================\n",
            "\n",
            "Hello, John! How can I assist you today?\n"
          ]
        }
      ],
      "source": [
        "user_input=\"Hi there!, My name is John\"\n",
        "\n",
        "events=graph.stream(\n",
        "     {\"messages\": [(\"user\", user_input)]},stream_mode=\"values\"\n",
        ")\n",
        "\n",
        "for event in events:\n",
        "  event[\"messages\"][-1].pretty_print()"
      ]
    },
    {
      "cell_type": "code",
      "execution_count": 19,
      "metadata": {
        "colab": {
          "base_uri": "https://localhost:8080/"
        },
        "id": "HnWrp7Xe-xey",
        "outputId": "abcb7807-11bd-4a09-dafc-bb32dfff3c9e"
      },
      "outputs": [
        {
          "name": "stdout",
          "output_type": "stream",
          "text": [
            "================================\u001b[1m Human Message \u001b[0m=================================\n",
            "\n",
            "what is RLHF.\n",
            "==================================\u001b[1m Ai Message \u001b[0m==================================\n",
            "\n",
            "RLHF stands for **Reinforcement Learning from Human Feedback**. It is a technique used in machine learning, particularly in training large language models, to improve their performance and alignment with human preferences. Here's a breakdown of the process:\n",
            "\n",
            "1. **Human Feedback Collection**: Human evaluators assess and rank various responses generated by the model to a given prompt. This feedback helps identify which responses are more desirable or coherent.\n",
            "\n",
            "2. **Reward Model Training**: The collected human feedback is used to train a reward model. This model learns to predict the likelihood that a given response will be favored by humans.\n",
            "\n",
            "3. **Reinforcement Learning**: The language model is then fine-tuned using reinforcement learning, where it optimizes for the reward signal provided by the reward model. This encourages the model to generate responses that are more aligned with human preferences.\n",
            "\n",
            "RLHF is widely used in fine-tuning large language models to enhance their conversational quality, safety, and relevance. It is particularly notable for its application in models like GPT, where it helps improve the model's ability to produce accurate, helpful, and engaging responses.\n"
          ]
        }
      ],
      "source": [
        "user_input = \"what is RLHF.\"\n",
        "\n",
        "# The config is the **second positional argument** to stream() or invoke()!\n",
        "events = graph.stream(\n",
        "    {\"messages\": [(\"user\", user_input)]},stream_mode=\"values\"\n",
        ")\n",
        "for event in events:\n",
        "    event[\"messages\"][-1].pretty_print()"
      ]
    },
    {
      "cell_type": "code",
      "execution_count": 22,
      "metadata": {},
      "outputs": [
        {
          "name": "stdout",
          "output_type": "stream",
          "text": [
            "You: What is the Asus Zephyrus laptop series?\n",
            "Chatbot: What is the Asus Zephyrus laptop series?The Asus Zephyrus series is a line of high-performance gaming laptops produced by Asus under its Republic of Gamers (ROG) brand. Named after Zephyr, the Greek god of the west wind, these laptops are designed to be thin, lightweight, and powerful, catering to gamers who seek both portability and strong performance.\n",
            "\n",
            "The Zephyrus series was one of the first to utilize NVIDIA's Max-Q design approach, which allows for the creation of slim gaming laptops without compromising on graphical performance. These laptops typically feature high-resolution displays with high refresh rates, powerful processors (often from Intel or AMD), and dedicated NVIDIA graphics cards.\n",
            "\n",
            "Key features of the Zephyrus series include:\n",
            "\n",
            "1. **Thin and Lightweight Design**: Despite their gaming capabilities, Zephyrus laptops are known for their sleek, compact designs, making them easier to carry around.\n",
            "\n",
            "2. **High-Performance Hardware**: They are equipped with the latest processors and high-end graphics cards to handle demanding games and applications.\n",
            "\n",
            "3. **Advanced Cooling Systems**: To maintain performance in a slim chassis, Zephyrus laptops often feature innovative cooling solutions, such as dual fans and vapor chambers.\n",
            "\n",
            "4. **Customizable Backlit Keyboards**: Many models offer per-key RGB lighting, allowing users to personalize their typing experience.\n",
            "\n",
            "5. **High-Refresh-Rate Displays**: The series often includes displays with high refresh rates (e.g., 144Hz or 240Hz) for smooth gaming experiences.\n",
            "\n",
            "The Zephyrus lineup has expanded over the years to include various models, such as the Zephyrus G14, G15, and Duo series, each offering different screen sizes and feature sets to cater to a range of user preferences.\n",
            "\n",
            "Overall, the Asus Zephyrus series is a popular choice among gamers and content creators who need a balance between performance and portability.\n",
            "You: Tell me more about it.\n",
            "Chatbot: Tell me more about it.Certainly! The **Asus Zephyrus series** is a lineup of premium gaming laptops designed to deliver high performance in a sleek, portable form factor. Here's a more detailed breakdown of its key features, evolution, and what makes it stand out:\n",
            "\n",
            "---\n",
            "\n",
            "### **1. Design and Portability**\n",
            "- **Thin and Lightweight**: The Zephyrus series is known for its slim profile, making it one of the thinnest gaming laptops on the market. For example, the Zephyrus G14 is only about 0.7 inches thick and weighs around 3.96 pounds, making it extremely portable.\n",
            "- **Premium Build Quality**: The laptops often feature aluminum construction, giving them a sturdy and premium feel.\n",
            "- **Ergonomic Design**: Many Zephyrus models include a raised hinge design for better cooling and a more comfortable typing experience.\n",
            "\n",
            "---\n",
            "\n",
            "### **2. Performance**\n",
            "- **Processors**: Zephyrus laptops are equipped with powerful processors, often from AMD or Intel. For example, models may feature AMD Ryzen 7 or 9 series processors or Intel Core i7 or i9 processors, depending on the specific model.\n",
            "- **Graphics Cards**: They come with high-end NVIDIA GeForce RTX graphics cards (e.g., RTX 3060, 3070, or 3080), making them capable of handling modern AAA games and content creation tasks.\n",
            "- **Max-Q Design**: Asus was one of the first companies to adopt NVIDIA's Max-Q design, which allows for powerful GPUs to fit into thin laptops without sacrificing performance.\n",
            "\n",
            "---\n",
            "\n",
            "### **3. Displays**\n",
            "- **High Refresh Rates**: Zephyrus laptops often feature high-refresh-rate displays (e.g., 144Hz, 240Hz, or even 300Hz) for smooth gaming experiences.\n",
            "- **Panel Quality**: Many models offer high-resolution displays, such as Full HD (1080p) or Quad HD (1440p), with good color accuracy and contrast.\n",
            "- **Adaptive Sync**: Some models support AMD FreeSync or NVIDIA G-Sync for a tear-free gaming experience.\n",
            "\n",
            "---\n",
            "\n",
            "### **4. Cooling System**\n",
            "- **Innovative Cooling**: Zephyrus laptops are equipped with advanced cooling systems, including dual fans, vapor chambers, and heat pipes to keep the laptop cool during intense gaming sessions.\n",
            "- **Active Aerodynamic System (AAS)**: Some models feature a design where the laptop's lid opens slightly to improve airflow, enhancing cooling efficiency.\n",
            "\n",
            "---\n",
            "\n",
            "### **5. Customization and RGB Lighting**\n",
            "- **RGB Keyboards**: Many Zephyrus models feature customizable per-key RGB backlighting, allowing users to personalize their keyboard lighting.\n",
            "- **Aura Sync Compatibility**: The laptops often support Asus' Aura Sync software, enabling synchronization of lighting effects with other Aura-compatible devices.\n",
            "\n",
            "---\n",
            "\n",
            "### **6. Storage and Connectivity**\n",
            "- **Fast Storage**: Zephyrus laptops typically come with NVMe SSDs for fast load times and responsive performance.\n",
            "- **Connectivity Options**: They include a range of ports, such as USB-C with Thunderbolt 4, HDMI, USB 3.2 Gen 2, and more, ensuring versatility for peripherals and external displays.\n",
            "\n",
            "---\n",
            "\n",
            "### **7. Popular Models**\n",
            "Some notable models in the Zephyrus lineup include:\n",
            "- **Zephyrus G14**: A compact 14-inch gaming laptop known for its portability and performance.\n",
            "- **Zephyrus G15**: A slightly larger 15-inch version with similar specs but a bigger screen.\n",
            "- **Zephyrus Duo**: A unique model featuring a dual-screen design, with a secondary display above the keyboard for multitasking or gaming enhancements.\n",
            "\n",
            "---\n",
            "\n",
            "### **8. Target Audience**\n",
            "The Zephyrus series is aimed at gamers and content creators who want a laptop that can handle demanding tasks but is still portable enough to carry around. It’s ideal for:\n",
            "- Gamers who want a powerful laptop for both home use and travel.\n",
            "- Content creators who need a laptop for video editing, 3D rendering, or other performance-intensive tasks.\n",
            "- Professionals who want a sleek, high-end device for work and play.\n",
            "\n",
            "---\n",
            "\n",
            "### **9. Price Range**\n",
            "Zephyrus laptops are premium devices, so they tend to be on the higher end of the price spectrum. Prices typically range from **$1,000 to $2,500**, depending on the model, processor, GPU, and configuration.\n",
            "\n",
            "---\n",
            "\n",
            "### **Summary**\n",
            "The Asus Zephyrus series is a standout in the gaming laptop market, offering a perfect blend of power, portability, and style. Its thin design, high-performance hardware, and innovative cooling solutions make it a top choice for gamers and creators who value both performance and mobility.\n",
            "You: what is the price of Iphone 15 pro in USA?\n",
            "Chatbot: what is the price of Iphone 15 pro in USA?As of my knowledge cutoff in July 2024, the **iPhone 15 Pro** pricing in the USA starts at **$999** for the base model. Here's the expected pricing for the iPhone 15 Pro in the U.S.:\n",
            "\n",
            "- **128GB**: $999  \n",
            "- **256GB**: $1,099  \n",
            "- **512GB**: $1,299  \n",
            "- **1TB**: $1,499  \n",
            "\n",
            "Please note that prices may vary depending on the region, carrier deals, and availability. For the most accurate and up-to-date pricing, I recommend checking Apple's official website or visiting an Apple Store.\n",
            "You: iphone 15 pro\n",
            "Chatbot: iphone 15 proThe **iPhone 15 Pro** is part of Apple's iPhone 15 series, released in September 2023. It represents a significant upgrade over its predecessor, offering improved performance, camera capabilities, and design enhancements. Below is an overview of the iPhone 15 Pro:\n",
            "\n",
            "---\n",
            "\n",
            "### **Key Features of the iPhone 15 Pro**\n",
            "\n",
            "1. **Design**:\n",
            "   - The iPhone 15 Pro features a **titanium alloy frame**, which is lighter and more durable than the stainless steel used in previous models.\n",
            "   - It is available in **two new color options**: **Titanium Blue** and **Titanium Black**.\n",
            "   - The phone retains the **6.1-inch Super Retina XDR display** with a **120Hz ProMotion refresh rate** for smooth scrolling and animations.\n",
            "\n",
            "2. **Performance**:\n",
            "   - The iPhone 15 Pro is powered by Apple's **A17 Pro chip**, which is faster and more efficient than the A16 Bionic chip in the iPhone 14 Pro.\n",
            "   - The A17 Pro chip supports **5G connectivity** and delivers improved performance for gaming, video editing, and other demanding tasks.\n",
            "\n",
            "3. **Camera System**:\n",
            "   - The iPhone 15 Pro boasts a **48MP main camera**, which is a significant upgrade over the 12MP camera in the iPhone 14 Pro.\n",
            "   - It features a **telephoto lens** with **optical zoom up to 5x** and **digital zoom up to 25x**.\n",
            "   - The **ultra-wide-angle lens** has been improved for better low-light performance and macro photography.\n",
            "   - The **front camera** supports **ProRes video recording** and **cinematic mode** for high-quality selfies and vlogs.\n",
            "\n",
            "4. **Dynamic Island**:\n",
            "   - The Dynamic Island feature, introduced in the iPhone 14 Pro, has been further refined in the iPhone 15 Pro. It provides **interactive notifications**, **Live Activities**, and **customization options** for a seamless user experience.\n",
            "\n",
            "5. **Battery Life**:\n",
            "   - The iPhone 15 Pro offers **all-day battery life**, with improvements in efficiency thanks to the A17 Pro chip and iOS optimizations.\n",
            "\n",
            "6. **Charging**:\n",
            "   - The iPhone 15 Pro supports **USB-C** charging, aligning with global standards.\n",
            "   - It also supports **fast charging**, allowing users to charge the battery to 50% in about 30 minutes.\n",
            "\n",
            "7. **Storage Options**:\n",
            "   - The iPhone 15 Pro is available in **128GB**, **256GB**, **512GB**, and **1TB** storage options, catering to different user needs.\n",
            "\n",
            "---\n",
            "\n",
            "### **Price of the iPhone 15 Pro in the USA**\n",
            "As of September 2023, the **iPhone 15 Pro** is priced as follows in the United States:\n",
            "- **128GB**: $999\n",
            "- **256GB**: $1,099\n",
            "- **512GB**: $1,299\n",
            "- **1TB**: $1,499\n",
            "\n",
            "---\n",
            "\n",
            "### **Summary**\n",
            "The **iPhone 15 Pro** is a powerhouse of a smartphone, offering **top-tier performance**, **outstanding camera capabilities**, and **a sleek, durable design**. If you're looking for a premium smartphone with cutting-edge features, the iPhone 15 Pro is an excellent choice. For the most accurate and up-to-date pricing, visit Apple's official website or check with authorized retailers.\n",
            "Chatbot: Goodbye!\n"
          ]
        }
      ],
      "source": [
        "# Import required modules\n",
        "from langchain_core.messages import AIMessage, HumanMessage\n",
        "\n",
        "# Initialize chat history\n",
        "chat_history = []\n",
        "\n",
        "# Start the chat loop\n",
        "while True:\n",
        "    user_input = input(\"You: \")  # Take user input\n",
        "\n",
        "    if user_input.lower() in [\"exit\", \"quit\", \"bye\"]:\n",
        "        print(\"Chatbot: Goodbye!\")\n",
        "        break  # Exit the loop if the user wants to quit\n",
        "\n",
        "    # Append the user's message to the chat history\n",
        "    chat_history.append(HumanMessage(user_input))\n",
        "\n",
        "    # Generate a response\n",
        "    events = graph.stream({\"messages\": chat_history}, stream_mode=\"values\")\n",
        "\n",
        "    # Collect chatbot response\n",
        "    chatbot_response = \"\"\n",
        "    for event in events:\n",
        "        # Get the chatbot response, ignoring irrelevant content like \"Page\" or summaries\n",
        "        content = event[\"messages\"][-1].content\n",
        "        if \"Page\" not in content and len(content.strip()) > 0:\n",
        "            chatbot_response += content.strip()\n",
        "\n",
        "    # Ensure that chatbot response is valid and does not contain \"Page\" or summaries\n",
        "    if chatbot_response:\n",
        "        # Print the dialogue in the correct format\n",
        "        print(f\"You: {user_input}\")\n",
        "        print(f\"Chatbot: {chatbot_response}\")\n",
        "    else:\n",
        "        print(\"Chatbot: I'm sorry, I couldn't find a response to that.\")\n",
        "\n",
        "    # Append AI response to chat history to maintain context\n",
        "    chat_history.append(AIMessage(chatbot_response))\n"
      ]
    }
  ],
  "metadata": {
    "accelerator": "GPU",
    "colab": {
      "gpuType": "L4",
      "machine_shape": "hm",
      "provenance": []
    },
    "kernelspec": {
      "display_name": "Python 3",
      "name": "python3"
    },
    "language_info": {
      "codemirror_mode": {
        "name": "ipython",
        "version": 3
      },
      "file_extension": ".py",
      "mimetype": "text/x-python",
      "name": "python",
      "nbconvert_exporter": "python",
      "pygments_lexer": "ipython3",
      "version": "3.10.12"
    }
  },
  "nbformat": 4,
  "nbformat_minor": 0
}
