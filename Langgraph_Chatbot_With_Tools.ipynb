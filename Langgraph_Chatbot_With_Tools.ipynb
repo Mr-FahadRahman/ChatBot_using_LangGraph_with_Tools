{
  "cells": [
    {
      "cell_type": "code",
      "execution_count": 23,
      "metadata": {
        "colab": {
          "base_uri": "https://localhost:8080/"
        },
        "id": "7FbteuSO3tV5",
        "outputId": "9d0fad36-250c-4158-cf2c-8fb1e09a53e9"
      },
      "outputs": [
        {
          "name": "stdout",
          "output_type": "stream",
          "text": [
            "Defaulting to user installation because normal site-packages is not writeable\n",
            "Requirement already satisfied: langgraph in /home/fahad/.local/lib/python3.10/site-packages (0.3.2)\n",
            "Requirement already satisfied: langsmith in /home/fahad/.local/lib/python3.10/site-packages (0.3.11)\n",
            "Requirement already satisfied: langchain in /home/fahad/.local/lib/python3.10/site-packages (0.3.20)\n",
            "Requirement already satisfied: langchain_groq in /home/fahad/.local/lib/python3.10/site-packages (0.2.4)\n",
            "Requirement already satisfied: langchain_community in /home/fahad/.local/lib/python3.10/site-packages (0.3.19)\n",
            "Requirement already satisfied: langchain-core<0.4,>=0.1 in /home/fahad/.local/lib/python3.10/site-packages (from langgraph) (0.3.41)\n",
            "Requirement already satisfied: langgraph-checkpoint<3.0.0,>=2.0.10 in /home/fahad/.local/lib/python3.10/site-packages (from langgraph) (2.0.16)\n",
            "Requirement already satisfied: langgraph-prebuilt<0.2,>=0.1.1 in /home/fahad/.local/lib/python3.10/site-packages (from langgraph) (0.1.1)\n",
            "Requirement already satisfied: langgraph-sdk<0.2.0,>=0.1.42 in /home/fahad/.local/lib/python3.10/site-packages (from langgraph) (0.1.53)\n",
            "Requirement already satisfied: httpx<1,>=0.23.0 in /home/fahad/.local/lib/python3.10/site-packages (from langsmith) (0.27.0)\n",
            "Requirement already satisfied: orjson<4.0.0,>=3.9.14 in /home/fahad/.local/lib/python3.10/site-packages (from langsmith) (3.10.15)\n",
            "Requirement already satisfied: packaging>=23.2 in /home/fahad/.local/lib/python3.10/site-packages (from langsmith) (24.0)\n",
            "Requirement already satisfied: pydantic<3,>=1 in /home/fahad/.local/lib/python3.10/site-packages (from langsmith) (2.10.6)\n",
            "Requirement already satisfied: requests<3,>=2 in /home/fahad/.local/lib/python3.10/site-packages (from langsmith) (2.32.3)\n",
            "Requirement already satisfied: requests-toolbelt<2.0.0,>=1.0.0 in /home/fahad/.local/lib/python3.10/site-packages (from langsmith) (1.0.0)\n",
            "Requirement already satisfied: zstandard<0.24.0,>=0.23.0 in /home/fahad/.local/lib/python3.10/site-packages (from langsmith) (0.23.0)\n",
            "Requirement already satisfied: langchain-text-splitters<1.0.0,>=0.3.6 in /home/fahad/.local/lib/python3.10/site-packages (from langchain) (0.3.6)\n",
            "Requirement already satisfied: SQLAlchemy<3,>=1.4 in /home/fahad/.local/lib/python3.10/site-packages (from langchain) (2.0.38)\n",
            "Requirement already satisfied: PyYAML>=5.3 in /usr/lib/python3/dist-packages (from langchain) (5.4.1)\n",
            "Requirement already satisfied: async-timeout<5.0.0,>=4.0.0 in /home/fahad/.local/lib/python3.10/site-packages (from langchain) (4.0.3)\n",
            "Requirement already satisfied: groq<1,>=0.4.1 in /home/fahad/.local/lib/python3.10/site-packages (from langchain_groq) (0.18.0)\n",
            "Requirement already satisfied: aiohttp<4.0.0,>=3.8.3 in /home/fahad/.local/lib/python3.10/site-packages (from langchain_community) (3.11.13)\n",
            "Requirement already satisfied: tenacity!=8.4.0,<10,>=8.1.0 in /home/fahad/.local/lib/python3.10/site-packages (from langchain_community) (9.0.0)\n",
            "Requirement already satisfied: dataclasses-json<0.7,>=0.5.7 in /home/fahad/.local/lib/python3.10/site-packages (from langchain_community) (0.6.7)\n",
            "Requirement already satisfied: pydantic-settings<3.0.0,>=2.4.0 in /home/fahad/.local/lib/python3.10/site-packages (from langchain_community) (2.8.1)\n",
            "Requirement already satisfied: httpx-sse<1.0.0,>=0.4.0 in /home/fahad/.local/lib/python3.10/site-packages (from langchain_community) (0.4.0)\n",
            "Requirement already satisfied: numpy<3,>=1.26.2 in /home/fahad/.local/lib/python3.10/site-packages (from langchain_community) (1.26.4)\n",
            "Requirement already satisfied: aiohappyeyeballs>=2.3.0 in /home/fahad/.local/lib/python3.10/site-packages (from aiohttp<4.0.0,>=3.8.3->langchain_community) (2.4.6)\n",
            "Requirement already satisfied: aiosignal>=1.1.2 in /home/fahad/.local/lib/python3.10/site-packages (from aiohttp<4.0.0,>=3.8.3->langchain_community) (1.3.2)\n",
            "Requirement already satisfied: attrs>=17.3.0 in /home/fahad/.local/lib/python3.10/site-packages (from aiohttp<4.0.0,>=3.8.3->langchain_community) (23.2.0)\n",
            "Requirement already satisfied: frozenlist>=1.1.1 in /home/fahad/.local/lib/python3.10/site-packages (from aiohttp<4.0.0,>=3.8.3->langchain_community) (1.5.0)\n",
            "Requirement already satisfied: multidict<7.0,>=4.5 in /home/fahad/.local/lib/python3.10/site-packages (from aiohttp<4.0.0,>=3.8.3->langchain_community) (6.1.0)\n",
            "Requirement already satisfied: propcache>=0.2.0 in /home/fahad/.local/lib/python3.10/site-packages (from aiohttp<4.0.0,>=3.8.3->langchain_community) (0.3.0)\n",
            "Requirement already satisfied: yarl<2.0,>=1.17.0 in /home/fahad/.local/lib/python3.10/site-packages (from aiohttp<4.0.0,>=3.8.3->langchain_community) (1.18.3)\n",
            "Requirement already satisfied: marshmallow<4.0.0,>=3.18.0 in /home/fahad/.local/lib/python3.10/site-packages (from dataclasses-json<0.7,>=0.5.7->langchain_community) (3.26.1)\n",
            "Requirement already satisfied: typing-inspect<1,>=0.4.0 in /home/fahad/.local/lib/python3.10/site-packages (from dataclasses-json<0.7,>=0.5.7->langchain_community) (0.9.0)\n",
            "Requirement already satisfied: anyio<5,>=3.5.0 in /home/fahad/.local/lib/python3.10/site-packages (from groq<1,>=0.4.1->langchain_groq) (4.4.0)\n",
            "Requirement already satisfied: distro<2,>=1.7.0 in /usr/lib/python3/dist-packages (from groq<1,>=0.4.1->langchain_groq) (1.7.0)\n",
            "Requirement already satisfied: sniffio in /home/fahad/.local/lib/python3.10/site-packages (from groq<1,>=0.4.1->langchain_groq) (1.3.1)\n",
            "Requirement already satisfied: typing-extensions<5,>=4.10 in /home/fahad/.local/lib/python3.10/site-packages (from groq<1,>=0.4.1->langchain_groq) (4.12.2)\n",
            "Requirement already satisfied: certifi in /home/fahad/.local/lib/python3.10/site-packages (from httpx<1,>=0.23.0->langsmith) (2023.7.22)\n",
            "Requirement already satisfied: httpcore==1.* in /home/fahad/.local/lib/python3.10/site-packages (from httpx<1,>=0.23.0->langsmith) (1.0.5)\n",
            "Requirement already satisfied: idna in /home/fahad/.local/lib/python3.10/site-packages (from httpx<1,>=0.23.0->langsmith) (2.10)\n",
            "Requirement already satisfied: h11<0.15,>=0.13 in /home/fahad/.local/lib/python3.10/site-packages (from httpcore==1.*->httpx<1,>=0.23.0->langsmith) (0.14.0)\n",
            "Requirement already satisfied: jsonpatch<2.0,>=1.33 in /home/fahad/.local/lib/python3.10/site-packages (from langchain-core<0.4,>=0.1->langgraph) (1.33)\n",
            "Requirement already satisfied: msgpack<2.0.0,>=1.1.0 in /home/fahad/.local/lib/python3.10/site-packages (from langgraph-checkpoint<3.0.0,>=2.0.10->langgraph) (1.1.0)\n",
            "Requirement already satisfied: annotated-types>=0.6.0 in /home/fahad/.local/lib/python3.10/site-packages (from pydantic<3,>=1->langsmith) (0.7.0)\n",
            "Requirement already satisfied: pydantic-core==2.27.2 in /home/fahad/.local/lib/python3.10/site-packages (from pydantic<3,>=1->langsmith) (2.27.2)\n",
            "Requirement already satisfied: python-dotenv>=0.21.0 in /home/fahad/.local/lib/python3.10/site-packages (from pydantic-settings<3.0.0,>=2.4.0->langchain_community) (1.0.1)\n",
            "Requirement already satisfied: charset-normalizer<4,>=2 in /home/fahad/.local/lib/python3.10/site-packages (from requests<3,>=2->langsmith) (3.3.2)\n",
            "Requirement already satisfied: urllib3<3,>=1.21.1 in /home/fahad/.local/lib/python3.10/site-packages (from requests<3,>=2->langsmith) (2.2.1)\n",
            "Requirement already satisfied: greenlet!=0.4.17 in /home/fahad/.local/lib/python3.10/site-packages (from SQLAlchemy<3,>=1.4->langchain) (3.1.1)\n",
            "Requirement already satisfied: exceptiongroup>=1.0.2 in /home/fahad/.local/lib/python3.10/site-packages (from anyio<5,>=3.5.0->groq<1,>=0.4.1->langchain_groq) (1.2.1)\n",
            "Requirement already satisfied: jsonpointer>=1.9 in /home/fahad/.local/lib/python3.10/site-packages (from jsonpatch<2.0,>=1.33->langchain-core<0.4,>=0.1->langgraph) (3.0.0)\n",
            "Requirement already satisfied: mypy-extensions>=0.3.0 in /home/fahad/.local/lib/python3.10/site-packages (from typing-inspect<1,>=0.4.0->dataclasses-json<0.7,>=0.5.7->langchain_community) (1.0.0)\n",
            "\n",
            "\u001b[1m[\u001b[0m\u001b[34;49mnotice\u001b[0m\u001b[1;39;49m]\u001b[0m\u001b[39;49m A new release of pip is available: \u001b[0m\u001b[31;49m24.3.1\u001b[0m\u001b[39;49m -> \u001b[0m\u001b[32;49m25.0.1\u001b[0m\n",
            "\u001b[1m[\u001b[0m\u001b[34;49mnotice\u001b[0m\u001b[1;39;49m]\u001b[0m\u001b[39;49m To update, run: \u001b[0m\u001b[32;49mpip install --upgrade pip\u001b[0m\n"
          ]
        }
      ],
      "source": [
        "!pip install langgraph langsmith langchain langchain_groq langchain_community"
      ]
    },
    {
      "cell_type": "code",
      "execution_count": 24,
      "metadata": {},
      "outputs": [
        {
          "name": "stdout",
          "output_type": "stream",
          "text": [
            "Defaulting to user installation because normal site-packages is not writeable\n",
            "Requirement already satisfied: arxiv in /home/fahad/.local/lib/python3.10/site-packages (2.1.3)\n",
            "Requirement already satisfied: wikipedia in /home/fahad/.local/lib/python3.10/site-packages (1.4.0)\n",
            "Requirement already satisfied: feedparser~=6.0.10 in /home/fahad/.local/lib/python3.10/site-packages (from arxiv) (6.0.11)\n",
            "Requirement already satisfied: requests~=2.32.0 in /home/fahad/.local/lib/python3.10/site-packages (from arxiv) (2.32.3)\n",
            "Requirement already satisfied: beautifulsoup4 in /usr/lib/python3/dist-packages (from wikipedia) (4.10.0)\n",
            "Requirement already satisfied: sgmllib3k in /home/fahad/.local/lib/python3.10/site-packages (from feedparser~=6.0.10->arxiv) (1.0.0)\n",
            "Requirement already satisfied: charset-normalizer<4,>=2 in /home/fahad/.local/lib/python3.10/site-packages (from requests~=2.32.0->arxiv) (3.3.2)\n",
            "Requirement already satisfied: idna<4,>=2.5 in /home/fahad/.local/lib/python3.10/site-packages (from requests~=2.32.0->arxiv) (2.10)\n",
            "Requirement already satisfied: urllib3<3,>=1.21.1 in /home/fahad/.local/lib/python3.10/site-packages (from requests~=2.32.0->arxiv) (2.2.1)\n",
            "Requirement already satisfied: certifi>=2017.4.17 in /home/fahad/.local/lib/python3.10/site-packages (from requests~=2.32.0->arxiv) (2023.7.22)\n",
            "\n",
            "\u001b[1m[\u001b[0m\u001b[34;49mnotice\u001b[0m\u001b[1;39;49m]\u001b[0m\u001b[39;49m A new release of pip is available: \u001b[0m\u001b[31;49m24.3.1\u001b[0m\u001b[39;49m -> \u001b[0m\u001b[32;49m25.0.1\u001b[0m\n",
            "\u001b[1m[\u001b[0m\u001b[34;49mnotice\u001b[0m\u001b[1;39;49m]\u001b[0m\u001b[39;49m To update, run: \u001b[0m\u001b[32;49mpip install --upgrade pip\u001b[0m\n"
          ]
        }
      ],
      "source": [
        "!pip install arxiv wikipedia"
      ]
    },
    {
      "cell_type": "code",
      "execution_count": 25,
      "metadata": {
        "id": "7nby_Ijb4iDe"
      },
      "outputs": [],
      "source": [
        "from typing import Annotated\n",
        "from typing_extensions import TypedDict"
      ]
    },
    {
      "cell_type": "code",
      "execution_count": 26,
      "metadata": {
        "id": "zXI3qaom5a03"
      },
      "outputs": [],
      "source": [
        "## Working With Tools\n",
        "\n",
        "from langchain_community.utilities import ArxivAPIWrapper,WikipediaAPIWrapper\n",
        "from langchain_community.tools import ArxivQueryRun,WikipediaQueryRun\n",
        "\n",
        "## Arxiv And Wikipedia tools\n",
        "arxiv_wrapper=ArxivAPIWrapper(top_k_results=1,doc_content_chars_max=300)\n",
        "arxiv_tool=ArxivQueryRun(api_wrapper=arxiv_wrapper)\n",
        "\n",
        "api_wrapper=WikipediaAPIWrapper(top_k_results=1,doc_content_chars_max=300)\n",
        "wiki_tool=WikipediaQueryRun(api_wrapper=api_wrapper)"
      ]
    },
    {
      "cell_type": "code",
      "execution_count": 27,
      "metadata": {
        "colab": {
          "base_uri": "https://localhost:8080/",
          "height": 70
        },
        "id": "BdE09N5-5xCz",
        "outputId": "23a3c122-7bea-4668-a7bd-6f630df64dd2"
      },
      "outputs": [
        {
          "data": {
            "text/plain": [
              "'Page: Nikola Tesla\\nSummary: Nikola Tesla (; Serbian Cyrillic: Никола Тесла [nǐkola têsla]; 10 July 1856 – 7 January 1943) was a Serbian-American engineer, futurist, and inventor. He is known for his contributions to the design of the modern alternating current (AC) electricity supply system.\\nBorn an'"
            ]
          },
          "execution_count": 27,
          "metadata": {},
          "output_type": "execute_result"
        }
      ],
      "source": [
        "wiki_tool.invoke(\"who is Nicola Tesla?\")"
      ]
    },
    {
      "cell_type": "code",
      "execution_count": 28,
      "metadata": {
        "colab": {
          "base_uri": "https://localhost:8080/",
          "height": 70
        },
        "id": "thYaNDYy5w_w",
        "outputId": "24d5bb06-6d9a-4dd0-c5db-ca4ae3e464b6"
      },
      "outputs": [
        {
          "data": {
            "text/plain": [
              "'Published: 2024-06-24\\nTitle: Large Vocabulary Size Improves Large Language Models\\nAuthors: Sho Takase, Ryokan Ri, Shun Kiyono, Takuya Kato\\nSummary: This paper empirically investigates the relationship between subword\\nvocabulary size and the performance of large language models (LLMs) to provide\\ninsi'"
            ]
          },
          "execution_count": 28,
          "metadata": {},
          "output_type": "execute_result"
        }
      ],
      "source": [
        "arxiv_tool.invoke(\"Defination of Large Language Model\")"
      ]
    },
    {
      "cell_type": "code",
      "execution_count": 29,
      "metadata": {
        "id": "ek52WFGI6lTq"
      },
      "outputs": [],
      "source": [
        "tools=[wiki_tool]"
      ]
    },
    {
      "cell_type": "code",
      "execution_count": 30,
      "metadata": {
        "id": "eC6q3tTg6slO"
      },
      "outputs": [],
      "source": [
        "## Langgraph Application\n",
        "from langgraph.graph.message import add_messages\n",
        "class State(TypedDict):\n",
        "  messages:Annotated[list,add_messages]"
      ]
    },
    {
      "cell_type": "code",
      "execution_count": 31,
      "metadata": {
        "id": "iXiurpCm7AWz"
      },
      "outputs": [],
      "source": [
        "from langgraph.graph import StateGraph,START,END"
      ]
    },
    {
      "cell_type": "code",
      "execution_count": 32,
      "metadata": {
        "id": "X9nAxTc17JNh"
      },
      "outputs": [],
      "source": [
        "graph_builder= StateGraph(State)\n"
      ]
    },
    {
      "cell_type": "code",
      "execution_count": 33,
      "metadata": {
        "id": "Kc-4UeZa7SU_"
      },
      "outputs": [],
      "source": [
        "from langchain_groq import ChatGroq"
      ]
    },
    {
      "cell_type": "code",
      "execution_count": 34,
      "metadata": {},
      "outputs": [],
      "source": [
        "import os\n",
        "from langchain_groq import ChatGroq\n",
        "from dotenv import load_dotenv\n",
        "\n",
        "load_dotenv()\n",
        "\n",
        "groq_api_key = os.getenv(\"GROQ_API_KEY\")  # Ensure this is a string\n"
      ]
    },
    {
      "cell_type": "code",
      "execution_count": 35,
      "metadata": {
        "colab": {
          "base_uri": "https://localhost:8080/"
        },
        "id": "63tR5KIk7Zyd",
        "outputId": "a027ab06-88d5-4f7d-f119-8eefdd79a37e"
      },
      "outputs": [
        {
          "data": {
            "text/plain": [
              "ChatGroq(client=<groq.resources.chat.completions.Completions object at 0x767ac11f3310>, async_client=<groq.resources.chat.completions.AsyncCompletions object at 0x767ac11f3c40>, model_name='deepseek-r1-distill-llama-70b', model_kwargs={}, groq_api_key=SecretStr('**********'))"
            ]
          },
          "execution_count": 35,
          "metadata": {},
          "output_type": "execute_result"
        }
      ],
      "source": [
        "llm = ChatGroq(api_key=groq_api_key, model_name=\"deepseek-r1-distill-llama-70b\")\n",
        "\n",
        "# print(llm)\n",
        "llm"
      ]
    },
    {
      "cell_type": "code",
      "execution_count": 36,
      "metadata": {
        "id": "HS2TyqvY8BcL"
      },
      "outputs": [],
      "source": [
        "llm_with_tools=llm.bind_tools(tools=tools)"
      ]
    },
    {
      "cell_type": "code",
      "execution_count": 37,
      "metadata": {
        "id": "uhh-mYKn7sPU"
      },
      "outputs": [],
      "source": [
        "def chatbot(state:State):\n",
        "  return {\"messages\":[llm_with_tools.invoke(state[\"messages\"])]}"
      ]
    },
    {
      "cell_type": "code",
      "execution_count": 38,
      "metadata": {
        "id": "81qlR2Kl8uZL"
      },
      "outputs": [],
      "source": [
        "from langgraph.prebuilt import ToolNode,tools_condition"
      ]
    },
    {
      "cell_type": "code",
      "execution_count": 39,
      "metadata": {
        "id": "3prnJx4M8YLF"
      },
      "outputs": [
        {
          "data": {
            "text/plain": [
              "<langgraph.graph.state.StateGraph at 0x767ac11ec5b0>"
            ]
          },
          "execution_count": 39,
          "metadata": {},
          "output_type": "execute_result"
        }
      ],
      "source": [
        "graph_builder.add_node(\"chatbot\",chatbot)\n",
        "tool_node = ToolNode(tools=tools)\n",
        "graph_builder.add_node(\"tools\", tool_node)\n",
        "\n",
        "graph_builder.add_conditional_edges(\n",
        "    \"chatbot\",\n",
        "    tools_condition,\n",
        ")\n",
        "graph_builder.add_edge(\"tools\", \"chatbot\")\n",
        "graph_builder.add_edge(START,\"chatbot\")\n"
      ]
    },
    {
      "cell_type": "code",
      "execution_count": 40,
      "metadata": {
        "id": "q1ztKyS79-YE"
      },
      "outputs": [],
      "source": [
        "graph=graph_builder.compile()"
      ]
    },
    {
      "cell_type": "code",
      "execution_count": 41,
      "metadata": {
        "colab": {
          "base_uri": "https://localhost:8080/",
          "height": 236
        },
        "id": "bg6et4vC-B_Y",
        "outputId": "0a887337-8b74-4cb9-adfd-3ab7abc47900"
      },
      "outputs": [
        {
          "data": {
            "image/png": "[encoded data removed]",
            "text/plain": [
              "<IPython.core.display.Image object>"
            ]
          },
          "metadata": {},
          "output_type": "display_data"
        }
      ],
      "source": [
        "from IPython.display import Image, display\n",
        "\n",
        "try:\n",
        "    display(Image(graph.get_graph().draw_mermaid_png()))\n",
        "except Exception:\n",
        "    # This requires some extra dependencies and is optional\n",
        "    pass"
      ]
    },
    {
      "cell_type": "code",
      "execution_count": 42,
      "metadata": {
        "colab": {
          "base_uri": "https://localhost:8080/"
        },
        "id": "_1M_0ihg-OK3",
        "outputId": "1cd34556-05a4-4bec-d20e-945fe3c46a44"
      },
      "outputs": [
        {
          "name": "stdout",
          "output_type": "stream",
          "text": [
            "================================\u001b[1m Human Message \u001b[0m=================================\n",
            "\n",
            "Hi there!, My name is Fahad\n",
            "==================================\u001b[1m Ai Message \u001b[0m==================================\n",
            "\n",
            "Hello Fahad! How can I assist you today? If you have any questions or need help with something, feel free to ask.\n"
          ]
        }
      ],
      "source": [
        "user_input=\"Hi there!, My name is Fahad\"\n",
        "\n",
        "events=graph.stream(\n",
        "     {\"messages\": [(\"user\", user_input)]},stream_mode=\"values\"\n",
        ")\n",
        "\n",
        "for event in events:\n",
        "  event[\"messages\"][-1].pretty_print()"
      ]
    },
    {
      "cell_type": "code",
      "execution_count": 43,
      "metadata": {
        "colab": {
          "base_uri": "https://localhost:8080/"
        },
        "id": "HnWrp7Xe-xey",
        "outputId": "abcb7807-11bd-4a09-dafc-bb32dfff3c9e"
      },
      "outputs": [
        {
          "name": "stdout",
          "output_type": "stream",
          "text": [
            "================================\u001b[1m Human Message \u001b[0m=================================\n",
            "\n",
            "what is RLHF.\n",
            "==================================\u001b[1m Ai Message \u001b[0m==================================\n",
            "\n",
            "RLHF stands for **Reinforcement Learning from Human Feedback**. It's a method used in training AI models to align their outputs with human preferences. Here's how it works:\n",
            "\n",
            "1. **Human Feedback Collection**: Humans evaluate and rank the outputs of a model based on quality, relevance, or other criteria.\n",
            "2. **Reward Model Training**: A reward model is trained to predict the rankings provided by humans. This model learns to distinguish between \"good\" and \"bad\" outputs.\n",
            "3. **Reinforcement Learning**: The main AI model is fine-tuned using reinforcement learning, where it aims to maximize the reward (i.e., produce outputs that align with human preferences).\n",
            "\n",
            "This approach is widely used in fine-tuning large language models to improve their performance in generating human-like and contextually appropriate responses.\n"
          ]
        }
      ],
      "source": [
        "user_input = \"what is RLHF.\"\n",
        "\n",
        "# The config is the **second positional argument** to stream() or invoke()!\n",
        "events = graph.stream(\n",
        "    {\"messages\": [(\"user\", user_input)]},stream_mode=\"values\"\n",
        ")\n",
        "for event in events:\n",
        "    event[\"messages\"][-1].pretty_print()"
      ]
    },
    {
      "cell_type": "code",
      "execution_count": 44,
      "metadata": {},
      "outputs": [
        {
          "name": "stdout",
          "output_type": "stream",
          "text": [
            "You: What is LangChain?\n",
            "Chatbot: What is LangChain?LangChain is a software framework designed to facilitate the integration of large language models (LLMs) into applications. Its primary purpose is to enable developers to easily incorporate the capabilities of LLMs into their projects, enhancing tasks such as document analysis, natural language processing, and more. LangChain's use cases largely overlap with those of language models in general, making it a versatile tool for a wide range of applications.\n",
            "You: What about LangGraph?\n",
            "Chatbot: What about LangGraph?LangGraph doesn't seem to be a widely recognized or established tool or framework in the context of large language models or related technologies as of my knowledge cutoff in July 2024. It's possible that it could be a niche tool, a new development, or something specific to a particular use case or organization that isn't widely known.\n",
            "\n",
            "If you have more context or if LangGraph is related to a specific application or project, feel free to share more details, and I can try to help clarify! If you'd like, I can also look up more general information about similar tools or frameworks.\n",
            "You: Do you familier with LangGraph?\n",
            "Chatbot: Do you familier with LangGraph?I am not familiar with LangGraph as it does not appear to be a widely recognized or established tool or framework in the context of large language models or related technologies as of my knowledge cutoff in July 2024. If you have more context or details about LangGraph, feel free to share, and I can try to help clarify or provide relevant information! If you'd like, I can also look up more general information about similar tools or frameworks.\n",
            "You: q\n",
            "Chatbot: qIt seems like you're asking about LangGraph again. As I mentioned earlier, I don't have specific information about LangGraph in my training data, as it doesn't appear to be a widely recognized tool or framework related to large language models or similar technologies as of my knowledge cutoff in July 2024.\n",
            "\n",
            "If you're looking for information on tools or frameworks related to language models or AI, feel free to ask, and I can help with that!\n",
            "Chatbot: Goodbye!\n"
          ]
        }
      ],
      "source": [
        "# Import required modules\n",
        "from langchain_core.messages import AIMessage, HumanMessage\n",
        "\n",
        "# Initialize chat history\n",
        "chat_history = []\n",
        "\n",
        "# Start the chat loop\n",
        "while True:\n",
        "    user_input = input(\"You: \")  # Take user input\n",
        "\n",
        "    if user_input.lower() in [\"exit\", \"quit\", \"bye\"]:\n",
        "        print(\"Chatbot: Goodbye!\")\n",
        "        break  # Exit the loop if the user wants to quit\n",
        "\n",
        "    # Append the user's message to the chat history\n",
        "    chat_history.append(HumanMessage(user_input))\n",
        "\n",
        "    # Generate a response\n",
        "    events = graph.stream({\"messages\": chat_history}, stream_mode=\"values\")\n",
        "\n",
        "    # Collect chatbot response\n",
        "    chatbot_response = \"\"\n",
        "    for event in events:\n",
        "        # Get the chatbot response, ignoring irrelevant content like \"Page\" or summaries\n",
        "        content = event[\"messages\"][-1].content\n",
        "        if \"Page\" not in content and len(content.strip()) > 0:\n",
        "            chatbot_response += content.strip()\n",
        "\n",
        "    # Ensure that chatbot response is valid and does not contain \"Page\" or summaries\n",
        "    if chatbot_response:\n",
        "        # Print the dialogue in the correct format\n",
        "        print(f\"You: {user_input}\")\n",
        "        print(f\"Chatbot: {chatbot_response}\")\n",
        "    else:\n",
        "        print(\"Chatbot: I'm sorry, I couldn't find a response to that.\")\n",
        "\n",
        "    # Append AI response to chat history to maintain context\n",
        "    chat_history.append(AIMessage(chatbot_response))\n"
      ]
    }
  ],
  "metadata": {
    "accelerator": "GPU",
    "colab": {
      "gpuType": "L4",
      "machine_shape": "hm",
      "provenance": []
    },
    "kernelspec": {
      "display_name": "Python 3",
      "name": "python3"
    },
    "language_info": {
      "codemirror_mode": {
        "name": "ipython",
        "version": 3
      },
      "file_extension": ".py",
      "mimetype": "text/x-python",
      "name": "python",
      "nbconvert_exporter": "python",
      "pygments_lexer": "ipython3",
      "version": "3.10.12"
    }
  },
  "nbformat": 4,
  "nbformat_minor": 0
}
